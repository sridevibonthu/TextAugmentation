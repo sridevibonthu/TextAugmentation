{
  "nbformat": 4,
  "nbformat_minor": 0,
  "metadata": {
    "colab": {
      "name": "Proposed Augmentation.ipynb",
      "provenance": []
    },
    "kernelspec": {
      "name": "python3",
      "display_name": "Python 3"
    },
    "accelerator": "GPU"
  },
  "cells": [
    {
      "cell_type": "code",
      "metadata": {
        "colab": {
          "base_uri": "https://localhost:8080/"
        },
        "id": "w4Hi-ZQfQGaw",
        "outputId": "e9e581a0-56fe-4f85-ff20-29d7daa96b27"
      },
      "source": [
        "!pip install google-trans-new\r\n"
      ],
      "execution_count": 1,
      "outputs": [
        {
          "output_type": "stream",
          "text": [
            "Requirement already satisfied: google-trans-new in /usr/local/lib/python3.6/dist-packages (1.1.9)\n"
          ],
          "name": "stdout"
        }
      ]
    },
    {
      "cell_type": "code",
      "metadata": {
        "colab": {
          "base_uri": "https://localhost:8080/"
        },
        "id": "UJ_eae1AP2q5",
        "outputId": "dd9ef314-f46b-4d28-c015-0611d92bc01e"
      },
      "source": [
        "import matplotlib.pyplot as plt\r\n",
        "import re\r\n",
        "import pandas as pd\r\n",
        "\r\n",
        "from sklearn.model_selection import train_test_split\r\n",
        "\r\n",
        "# Import Library\r\n",
        "import random\r\n",
        "import torch, torchtext\r\n",
        "from torchtext import data \r\n",
        "\r\n",
        "# Manual Seed\r\n",
        "SEED = 43\r\n",
        "torch.manual_seed(SEED)\r\n"
      ],
      "execution_count": 2,
      "outputs": [
        {
          "output_type": "execute_result",
          "data": {
            "text/plain": [
              "<torch._C.Generator at 0x7fabf6fa9ea0>"
            ]
          },
          "metadata": {
            "tags": []
          },
          "execution_count": 2
        }
      ]
    },
    {
      "cell_type": "code",
      "metadata": {
        "colab": {
          "base_uri": "https://localhost:8080/"
        },
        "id": "3DhMpbdGQVIJ",
        "outputId": "45e97fe7-995a-4568-976b-0ce7c7d662be"
      },
      "source": [
        "import nltk\r\n",
        "nltk.download('wordnet')"
      ],
      "execution_count": 3,
      "outputs": [
        {
          "output_type": "stream",
          "text": [
            "[nltk_data] Downloading package wordnet to /root/nltk_data...\n",
            "[nltk_data]   Package wordnet is already up-to-date!\n"
          ],
          "name": "stdout"
        },
        {
          "output_type": "execute_result",
          "data": {
            "text/plain": [
              "True"
            ]
          },
          "metadata": {
            "tags": []
          },
          "execution_count": 3
        }
      ]
    },
    {
      "cell_type": "code",
      "metadata": {
        "colab": {
          "base_uri": "https://localhost:8080/",
          "height": 202
        },
        "id": "-Fq4uZEOQija",
        "outputId": "1e5721e0-aa20-4648-e752-8073de613de9"
      },
      "source": [
        "import pandas as pd\r\n",
        "df = pd.read_csv('apple_twitter_sentiment_dfe.csv')\r\n",
        "df = df[['text', 'sentiment']]\r\n",
        "df.head()"
      ],
      "execution_count": 4,
      "outputs": [
        {
          "output_type": "execute_result",
          "data": {
            "text/html": [
              "<div>\n",
              "<style scoped>\n",
              "    .dataframe tbody tr th:only-of-type {\n",
              "        vertical-align: middle;\n",
              "    }\n",
              "\n",
              "    .dataframe tbody tr th {\n",
              "        vertical-align: top;\n",
              "    }\n",
              "\n",
              "    .dataframe thead th {\n",
              "        text-align: right;\n",
              "    }\n",
              "</style>\n",
              "<table border=\"1\" class=\"dataframe\">\n",
              "  <thead>\n",
              "    <tr style=\"text-align: right;\">\n",
              "      <th></th>\n",
              "      <th>text</th>\n",
              "      <th>sentiment</th>\n",
              "    </tr>\n",
              "  </thead>\n",
              "  <tbody>\n",
              "    <tr>\n",
              "      <th>0</th>\n",
              "      <td>#AAPL:The 10 best Steve Jobs emails ever...htt...</td>\n",
              "      <td>3</td>\n",
              "    </tr>\n",
              "    <tr>\n",
              "      <th>1</th>\n",
              "      <td>RT @JPDesloges: Why AAPL Stock Had a Mini-Flas...</td>\n",
              "      <td>3</td>\n",
              "    </tr>\n",
              "    <tr>\n",
              "      <th>2</th>\n",
              "      <td>My cat only chews @apple cords. Such an #Apple...</td>\n",
              "      <td>3</td>\n",
              "    </tr>\n",
              "    <tr>\n",
              "      <th>3</th>\n",
              "      <td>I agree with @jimcramer that the #IndividualIn...</td>\n",
              "      <td>3</td>\n",
              "    </tr>\n",
              "    <tr>\n",
              "      <th>4</th>\n",
              "      <td>Nobody expects the Spanish Inquisition #AAPL</td>\n",
              "      <td>3</td>\n",
              "    </tr>\n",
              "  </tbody>\n",
              "</table>\n",
              "</div>"
            ],
            "text/plain": [
              "                                                text sentiment\n",
              "0  #AAPL:The 10 best Steve Jobs emails ever...htt...         3\n",
              "1  RT @JPDesloges: Why AAPL Stock Had a Mini-Flas...         3\n",
              "2  My cat only chews @apple cords. Such an #Apple...         3\n",
              "3  I agree with @jimcramer that the #IndividualIn...         3\n",
              "4       Nobody expects the Spanish Inquisition #AAPL         3"
            ]
          },
          "metadata": {
            "tags": []
          },
          "execution_count": 4
        }
      ]
    },
    {
      "cell_type": "code",
      "metadata": {
        "colab": {
          "base_uri": "https://localhost:8080/"
        },
        "id": "5rWAcXarQlJ_",
        "outputId": "4f4dcf91-6990-430f-f8c9-0dec8bdca9f6"
      },
      "source": [
        "#number of records in the dataset\r\n",
        "df.shape"
      ],
      "execution_count": 5,
      "outputs": [
        {
          "output_type": "execute_result",
          "data": {
            "text/plain": [
              "(3886, 2)"
            ]
          },
          "metadata": {
            "tags": []
          },
          "execution_count": 5
        }
      ]
    },
    {
      "cell_type": "code",
      "metadata": {
        "colab": {
          "base_uri": "https://localhost:8080/"
        },
        "id": "BYaCNRecQq19",
        "outputId": "8fd7f44b-83db-4ccd-deed-31a95f75abbc"
      },
      "source": [
        "df.sentiment.value_counts()"
      ],
      "execution_count": 6,
      "outputs": [
        {
          "output_type": "execute_result",
          "data": {
            "text/plain": [
              "3               2162\n",
              "1               1219\n",
              "5                423\n",
              "not_relevant      82\n",
              "Name: sentiment, dtype: int64"
            ]
          },
          "metadata": {
            "tags": []
          },
          "execution_count": 6
        }
      ]
    },
    {
      "cell_type": "code",
      "metadata": {
        "colab": {
          "base_uri": "https://localhost:8080/"
        },
        "id": "whNEkn9hQs7Q",
        "outputId": "e12100e2-a8ad-4497-ef20-1dafdae4fef5"
      },
      "source": [
        "#Remove the records which are not relevant\r\n",
        "filtered_df = df[df['sentiment'] != 'not_relevant']\r\n",
        "filtered_df.shape"
      ],
      "execution_count": 7,
      "outputs": [
        {
          "output_type": "execute_result",
          "data": {
            "text/plain": [
              "(3804, 2)"
            ]
          },
          "metadata": {
            "tags": []
          },
          "execution_count": 7
        }
      ]
    },
    {
      "cell_type": "code",
      "metadata": {
        "colab": {
          "base_uri": "https://localhost:8080/",
          "height": 292
        },
        "id": "U6xHXRapQ1cy",
        "outputId": "30d4c29c-aa56-4688-bb8a-160fb01d582c"
      },
      "source": [
        "plt.title('Apple Twitter Sentiment Data')\r\n",
        "plt.xlabel('Sentiment')\r\n",
        "plt.ylabel('Counts')\r\n",
        "filtered_df['sentiment'].value_counts().plot(kind='bar')\r\n",
        "plt.show()"
      ],
      "execution_count": 8,
      "outputs": [
        {
          "output_type": "display_data",
          "data": {
            "image/png": "[encoded data removed]",
            "text/plain": [
              "<Figure size 432x288 with 1 Axes>"
            ]
          },
          "metadata": {
            "tags": [],
            "needs_background": "light"
          }
        }
      ]
    },
    {
      "cell_type": "markdown",
      "metadata": {
        "id": "xASvGS2KRBPA"
      },
      "source": [
        "##### preprocessing\r\n",
        "\r\n",
        "1.   List item\r\n",
        "2.   List item\r\n",
        "\r\n",
        "\r\n",
        "removes @mentions, hashtag #, remove RT, removes hyperlinks"
      ]
    },
    {
      "cell_type": "code",
      "metadata": {
        "colab": {
          "base_uri": "https://localhost:8080/"
        },
        "id": "SkoMHOjEQ82w",
        "outputId": "500c851e-ede7-47a1-948f-e1e3f1b399b2"
      },
      "source": [
        "# Clean the tweets\r\n",
        "def cleanText(text):\r\n",
        "  text = re.sub(r'@[A-Za-z0-9]+', '', text)\r\n",
        "  text = re.sub(r'#', '', text)\r\n",
        "  text = re.sub(r'RT[\\s]+', '', text)\r\n",
        "  text = re.sub(r'https?:\\/\\/\\S+', '', text)\r\n",
        "  return text\r\n",
        "\r\n",
        "filtered_df['text'] = filtered_df['text'].apply(cleanText)\r\n",
        "\r\n"
      ],
      "execution_count": 9,
      "outputs": [
        {
          "output_type": "stream",
          "text": [
            "/usr/local/lib/python3.6/dist-packages/ipykernel_launcher.py:9: SettingWithCopyWarning: \n",
            "A value is trying to be set on a copy of a slice from a DataFrame.\n",
            "Try using .loc[row_indexer,col_indexer] = value instead\n",
            "\n",
            "See the caveats in the documentation: https://pandas.pydata.org/pandas-docs/stable/user_guide/indexing.html#returning-a-view-versus-a-copy\n",
            "  if __name__ == '__main__':\n"
          ],
          "name": "stderr"
        }
      ]
    },
    {
      "cell_type": "code",
      "metadata": {
        "colab": {
          "base_uri": "https://localhost:8080/",
          "height": 202
        },
        "id": "bw8wYHesREAF",
        "outputId": "96d3dbeb-351e-4833-8242-4b206e366ef3"
      },
      "source": [
        "filtered_df.head()"
      ],
      "execution_count": 10,
      "outputs": [
        {
          "output_type": "execute_result",
          "data": {
            "text/html": [
              "<div>\n",
              "<style scoped>\n",
              "    .dataframe tbody tr th:only-of-type {\n",
              "        vertical-align: middle;\n",
              "    }\n",
              "\n",
              "    .dataframe tbody tr th {\n",
              "        vertical-align: top;\n",
              "    }\n",
              "\n",
              "    .dataframe thead th {\n",
              "        text-align: right;\n",
              "    }\n",
              "</style>\n",
              "<table border=\"1\" class=\"dataframe\">\n",
              "  <thead>\n",
              "    <tr style=\"text-align: right;\">\n",
              "      <th></th>\n",
              "      <th>text</th>\n",
              "      <th>sentiment</th>\n",
              "    </tr>\n",
              "  </thead>\n",
              "  <tbody>\n",
              "    <tr>\n",
              "      <th>0</th>\n",
              "      <td>AAPL:The 10 best Steve Jobs emails ever...</td>\n",
              "      <td>3</td>\n",
              "    </tr>\n",
              "    <tr>\n",
              "      <th>1</th>\n",
              "      <td>: Why AAPL Stock Had a Mini-Flash Crash Today ...</td>\n",
              "      <td>3</td>\n",
              "    </tr>\n",
              "    <tr>\n",
              "      <th>2</th>\n",
              "      <td>My cat only chews  cords. Such an AppleSnob.</td>\n",
              "      <td>3</td>\n",
              "    </tr>\n",
              "    <tr>\n",
              "      <th>3</th>\n",
              "      <td>I agree with  that the IndividualInvestor shou...</td>\n",
              "      <td>3</td>\n",
              "    </tr>\n",
              "    <tr>\n",
              "      <th>4</th>\n",
              "      <td>Nobody expects the Spanish Inquisition AAPL</td>\n",
              "      <td>3</td>\n",
              "    </tr>\n",
              "  </tbody>\n",
              "</table>\n",
              "</div>"
            ],
            "text/plain": [
              "                                                text sentiment\n",
              "0         AAPL:The 10 best Steve Jobs emails ever...         3\n",
              "1  : Why AAPL Stock Had a Mini-Flash Crash Today ...         3\n",
              "2       My cat only chews  cords. Such an AppleSnob.         3\n",
              "3  I agree with  that the IndividualInvestor shou...         3\n",
              "4        Nobody expects the Spanish Inquisition AAPL         3"
            ]
          },
          "metadata": {
            "tags": []
          },
          "execution_count": 10
        }
      ]
    },
    {
      "cell_type": "markdown",
      "metadata": {
        "id": "qLQdzYnnRKqw"
      },
      "source": [
        "### Part 1 - increase the training data with Backtranslate, Random Swap, insertion and deletion."
      ]
    },
    {
      "cell_type": "code",
      "metadata": {
        "id": "PmRAVM1URHWY"
      },
      "source": [
        "traindf, testdf = train_test_split(filtered_df, test_size=0.2, random_state=SEED)"
      ],
      "execution_count": 11,
      "outputs": []
    },
    {
      "cell_type": "code",
      "metadata": {
        "id": "-kkK7tr5RjjH"
      },
      "source": [
        "import random\r\n",
        "from random import shuffle\r\n",
        "random.seed(1)\r\n",
        "\r\n",
        "#stop words list\r\n",
        "stop_words = ['i', 'me', 'my', 'myself', 'we', 'our', \r\n",
        "\t\t\t'ours', 'ourselves', 'you', 'your', 'yours', \r\n",
        "\t\t\t'yourself', 'yourselves', 'he', 'him', 'his', \r\n",
        "\t\t\t'himself', 'she', 'her', 'hers', 'herself', \r\n",
        "\t\t\t'it', 'its', 'itself', 'they', 'them', 'their', \r\n",
        "\t\t\t'theirs', 'themselves', 'what', 'which', 'who', \r\n",
        "\t\t\t'whom', 'this', 'that', 'these', 'those', 'am', \r\n",
        "\t\t\t'is', 'are', 'was', 'were', 'be', 'been', 'being', \r\n",
        "\t\t\t'have', 'has', 'had', 'having', 'do', 'does', 'did',\r\n",
        "\t\t\t'doing', 'a', 'an', 'the', 'and', 'but', 'if', 'or',\r\n",
        "\t\t\t'because', 'as', 'until', 'while', 'of', 'at', \r\n",
        "\t\t\t'by', 'for', 'with', 'about', 'against', 'between',\r\n",
        "\t\t\t'into', 'through', 'during', 'before', 'after', \r\n",
        "\t\t\t'above', 'below', 'to', 'from', 'up', 'down', 'in',\r\n",
        "\t\t\t'out', 'on', 'off', 'over', 'under', 'again', \r\n",
        "\t\t\t'further', 'then', 'once', 'here', 'there', 'when', \r\n",
        "\t\t\t'where', 'why', 'how', 'all', 'any', 'both', 'each', \r\n",
        "\t\t\t'few', 'more', 'most', 'other', 'some', 'such', 'no', \r\n",
        "\t\t\t'nor', 'not', 'only', 'own', 'same', 'so', 'than', 'too', \r\n",
        "\t\t\t'very', 's', 't', 'can', 'will', 'just', 'don', \r\n",
        "\t\t\t'should', 'now', '']\r\n",
        "\r\n",
        "#cleaning up text\r\n",
        "import re\r\n",
        "def get_only_chars(line):\r\n",
        "\r\n",
        "    clean_line = \"\"\r\n",
        "\r\n",
        "    line = line.replace(\"’\", \"\")\r\n",
        "    line = line.replace(\"'\", \"\")\r\n",
        "    line = line.replace(\"-\", \" \") #replace hyphens with spaces\r\n",
        "    line = line.replace(\"\\t\", \" \")\r\n",
        "    line = line.replace(\"\\n\", \" \")\r\n",
        "    line = line.lower()\r\n",
        "\r\n",
        "    for char in line:\r\n",
        "        if char in 'qwertyuiopasdfghjklzxcvbnm ':\r\n",
        "            clean_line += char\r\n",
        "        else:\r\n",
        "            clean_line += ' '\r\n",
        "\r\n",
        "    clean_line = re.sub(' +',' ',clean_line) #delete extra spaces\r\n",
        "    if clean_line[0] == ' ':\r\n",
        "        clean_line = clean_line[1:]\r\n",
        "    return clean_line"
      ],
      "execution_count": 12,
      "outputs": []
    },
    {
      "cell_type": "code",
      "metadata": {
        "id": "_dxJItMmRtAP"
      },
      "source": [
        "from nltk.corpus import wordnet \r\n",
        "\r\n",
        "def synonym_replacement(words, n=3):\r\n",
        "\tnew_words = words.copy()\r\n",
        "\trandom_word_list = list(set([word for word in words if word not in stop_words]))\r\n",
        "\trandom.shuffle(random_word_list)\r\n",
        "\tnum_replaced = 0\r\n",
        "\tfor random_word in random_word_list:\r\n",
        "\t\tsynonyms = get_synonyms(random_word)\r\n",
        "\t\tif len(synonyms) >= 1:\r\n",
        "\t\t\tsynonym = random.choice(list(synonyms))\r\n",
        "\t\t\tnew_words = [synonym if word == random_word else word for word in new_words]\r\n",
        "\t\t\t#print(\"replaced\", random_word, \"with\", synonym)\r\n",
        "\t\t\tnum_replaced += 1\r\n",
        "\t\tif num_replaced >= n: #only replace up to n words\r\n",
        "\t\t\tbreak\r\n",
        "\r\n",
        "\t#this is stupid but we need it, trust me\r\n",
        "\tsentence = ' '.join(new_words)\r\n",
        "\tnew_words = sentence.split(' ')\r\n",
        "\r\n",
        "\treturn new_words\r\n",
        "\r\n",
        "def get_synonyms(word):\r\n",
        "\tsynonyms = set()\r\n",
        "\tfor syn in wordnet.synsets(word): \r\n",
        "\t\tfor l in syn.lemmas(): \r\n",
        "\t\t\tsynonym = l.name().replace(\"_\", \" \").replace(\"-\", \" \").lower()\r\n",
        "\t\t\tsynonym = \"\".join([char for char in synonym if char in ' qwertyuiopasdfghjklzxcvbnm'])\r\n",
        "\t\t\tsynonyms.add(synonym) \r\n",
        "\tif word in synonyms:\r\n",
        "\t\tsynonyms.remove(word)\r\n",
        "\treturn list(synonyms)"
      ],
      "execution_count": 13,
      "outputs": []
    },
    {
      "cell_type": "code",
      "metadata": {
        "id": "U-Sti47uRuk4"
      },
      "source": [
        "def replace_with_synonym(text):\r\n",
        "  return synonym_replacement(text.split())"
      ],
      "execution_count": 14,
      "outputs": []
    },
    {
      "cell_type": "code",
      "metadata": {
        "id": "04O_idAiTSGi"
      },
      "source": [
        "\r\n",
        "def random_deletion(sentence, p=0.2): \r\n",
        "  words = sentence.split()\r\n",
        "  if len(words) == 1:\r\n",
        "    return words\r\n",
        "  remaining = list(filter(lambda x: random.uniform(0,1) > p,words)) \r\n",
        "  if len(remaining) == 0: # if not left, sample a random word\r\n",
        "    return ' '.join([random.choice(words)])\r\n",
        "  else:\r\n",
        "    return ' '.join(remaining)\r\n"
      ],
      "execution_count": 15,
      "outputs": []
    },
    {
      "cell_type": "code",
      "metadata": {
        "id": "zWx_K802Tkmb"
      },
      "source": [
        "def random_swap(sentence, n=2): \r\n",
        "    sentence = sentence.split()\r\n",
        "    if len(sentence) > 4:\r\n",
        "\r\n",
        "      length = range(len(sentence)-1) \r\n",
        "      #print(sentence, length)\r\n",
        "      for _ in range(n):\r\n",
        "          idx1, idx2 = random.sample(length, 2)\r\n",
        "          sentence[idx1], sentence[idx2] = sentence[idx2], sentence[idx1] \r\n",
        "          #print(idx1, idx2, sentence)\r\n",
        "      return ' '.join(sentence)\r\n",
        "    return ' '.join(sentence)"
      ],
      "execution_count": 16,
      "outputs": []
    },
    {
      "cell_type": "code",
      "metadata": {
        "id": "ss5CA5axUIJA"
      },
      "source": [
        "import google_trans_new\r\n",
        "\r\n",
        "from google_trans_new import google_translator\r\n",
        "\r\n",
        "translator = google_translator()"
      ],
      "execution_count": 17,
      "outputs": []
    },
    {
      "cell_type": "code",
      "metadata": {
        "id": "L6FVhV1GUI2V"
      },
      "source": [
        "def googletranslate(text):\r\n",
        "  tempfr = translator.translate(text, lang_tgt='de')\r\n",
        "  return translator.translate(tempfr, lang_src='de', lang_tgt='en')"
      ],
      "execution_count": 18,
      "outputs": []
    },
    {
      "cell_type": "code",
      "metadata": {
        "id": "QfUEKtY7R7zU"
      },
      "source": [
        "def preaugment(text):\r\n",
        "  rate = random.random()\r\n",
        "  if rate < 0.4:\r\n",
        "    text = replace_with_synonym(text)\r\n",
        "  elif rate < 0.7:\r\n",
        "    text = googletranslate(text)\r\n",
        "  elif rate < 0.85:\r\n",
        "    text = random_deletion(text)\r\n",
        "  else:\r\n",
        "    text = random_swap(text)\r\n",
        "  return text"
      ],
      "execution_count": 19,
      "outputs": []
    },
    {
      "cell_type": "markdown",
      "metadata": {
        "id": "DP_zCbkzR0wv"
      },
      "source": [
        "augmenting 60% of the training by using the proposed algorithm"
      ]
    },
    {
      "cell_type": "code",
      "metadata": {
        "colab": {
          "base_uri": "https://localhost:8080/"
        },
        "id": "hFtI0rrvRwtv",
        "outputId": "a88e24d8-7913-4caa-c28c-9e4d8b4ff527"
      },
      "source": [
        "tempdf = traindf.copy()\r\n",
        "#apply augmentation on fractin of the dataset\r\n",
        "tempdf = tempdf.sample(frac = 0.75, random_state=SEED)\r\n",
        "tempdf['text'] = tempdf['text'].apply(preaugment)\r\n",
        "augdf = pd.concat([traindf, tempdf], ignore_index=True)\r\n",
        "print(traindf.shape, augdf.shape, testdf.shape)"
      ],
      "execution_count": 20,
      "outputs": [
        {
          "output_type": "stream",
          "text": [
            "(3043, 2) (5325, 2) (761, 2)\n"
          ],
          "name": "stdout"
        }
      ]
    },
    {
      "cell_type": "code",
      "metadata": {
        "id": "QeAYPw_YdC4T",
        "outputId": "dd0395e0-0406-4460-a800-2e622186b013",
        "colab": {
          "base_uri": "https://localhost:8080/",
          "height": 202
        }
      },
      "source": [
        "tempdf.head()"
      ],
      "execution_count": 21,
      "outputs": [
        {
          "output_type": "execute_result",
          "data": {
            "text/html": [
              "<div>\n",
              "<style scoped>\n",
              "    .dataframe tbody tr th:only-of-type {\n",
              "        vertical-align: middle;\n",
              "    }\n",
              "\n",
              "    .dataframe tbody tr th {\n",
              "        vertical-align: top;\n",
              "    }\n",
              "\n",
              "    .dataframe thead th {\n",
              "        text-align: right;\n",
              "    }\n",
              "</style>\n",
              "<table border=\"1\" class=\"dataframe\">\n",
              "  <thead>\n",
              "    <tr style=\"text-align: right;\">\n",
              "      <th></th>\n",
              "      <th>text</th>\n",
              "      <th>sentiment</th>\n",
              "    </tr>\n",
              "  </thead>\n",
              "  <tbody>\n",
              "    <tr>\n",
              "      <th>3361</th>\n",
              "      <td>[:, protester, stage, DieIn, protests, in, lay...</td>\n",
              "      <td>3</td>\n",
              "    </tr>\n",
              "    <tr>\n",
              "      <th>968</th>\n",
              "      <td>: The iPhone 6 Plus will be huge in China this...</td>\n",
              "      <td>3</td>\n",
              "    </tr>\n",
              "    <tr>\n",
              "      <th>565</th>\n",
              "      <td>[nobelium, sustain, debar, huh?]</td>\n",
              "      <td>3</td>\n",
              "    </tr>\n",
              "    <tr>\n",
              "      <th>1894</th>\n",
              "      <td>[what, fear, me:, These, Co's, are, in, a, lay...</td>\n",
              "      <td>3</td>\n",
              "    </tr>\n",
              "    <tr>\n",
              "      <th>1157</th>\n",
              "      <td>Photo: Amazing customer service today store. U...</td>\n",
              "      <td>5</td>\n",
              "    </tr>\n",
              "  </tbody>\n",
              "</table>\n",
              "</div>"
            ],
            "text/plain": [
              "                                                   text sentiment\n",
              "3361  [:, protester, stage, DieIn, protests, in, lay...         3\n",
              "968   : The iPhone 6 Plus will be huge in China this...         3\n",
              "565                    [nobelium, sustain, debar, huh?]         3\n",
              "1894  [what, fear, me:, These, Co's, are, in, a, lay...         3\n",
              "1157  Photo: Amazing customer service today store. U...         5"
            ]
          },
          "metadata": {
            "tags": []
          },
          "execution_count": 21
        }
      ]
    },
    {
      "cell_type": "code",
      "metadata": {
        "id": "zBb1adcAdGEY",
        "outputId": "82596acb-9525-429b-b5ab-333d493a4aa1",
        "colab": {
          "base_uri": "https://localhost:8080/",
          "height": 202
        }
      },
      "source": [
        "augdf.head()"
      ],
      "execution_count": 22,
      "outputs": [
        {
          "output_type": "execute_result",
          "data": {
            "text/html": [
              "<div>\n",
              "<style scoped>\n",
              "    .dataframe tbody tr th:only-of-type {\n",
              "        vertical-align: middle;\n",
              "    }\n",
              "\n",
              "    .dataframe tbody tr th {\n",
              "        vertical-align: top;\n",
              "    }\n",
              "\n",
              "    .dataframe thead th {\n",
              "        text-align: right;\n",
              "    }\n",
              "</style>\n",
              "<table border=\"1\" class=\"dataframe\">\n",
              "  <thead>\n",
              "    <tr style=\"text-align: right;\">\n",
              "      <th></th>\n",
              "      <th>text</th>\n",
              "      <th>sentiment</th>\n",
              "    </tr>\n",
              "  </thead>\n",
              "  <tbody>\n",
              "    <tr>\n",
              "      <th>0</th>\n",
              "      <td>iPhone 7 Release Date With Top 10 Most Needed ...</td>\n",
              "      <td>3</td>\n",
              "    </tr>\n",
              "    <tr>\n",
              "      <th>1</th>\n",
              "      <td>: Studio at 45,000 ft.  One outlet,  4 compute...</td>\n",
              "      <td>3</td>\n",
              "    </tr>\n",
              "    <tr>\n",
              "      <th>2</th>\n",
              "      <td>Eddy Cue Speaks on Apple's DRM Policies in iPo...</td>\n",
              "      <td>3</td>\n",
              "    </tr>\n",
              "    <tr>\n",
              "      <th>3</th>\n",
              "      <td>Our  app is coming soon! Still in production! ...</td>\n",
              "      <td>3</td>\n",
              "    </tr>\n",
              "    <tr>\n",
              "      <th>4</th>\n",
              "      <td>: whoknew Why isn't  on Twitter?  interestingf...</td>\n",
              "      <td>3</td>\n",
              "    </tr>\n",
              "  </tbody>\n",
              "</table>\n",
              "</div>"
            ],
            "text/plain": [
              "                                                text sentiment\n",
              "0  iPhone 7 Release Date With Top 10 Most Needed ...         3\n",
              "1  : Studio at 45,000 ft.  One outlet,  4 compute...         3\n",
              "2  Eddy Cue Speaks on Apple's DRM Policies in iPo...         3\n",
              "3  Our  app is coming soon! Still in production! ...         3\n",
              "4  : whoknew Why isn't  on Twitter?  interestingf...         3"
            ]
          },
          "metadata": {
            "tags": []
          },
          "execution_count": 22
        }
      ]
    },
    {
      "cell_type": "code",
      "metadata": {
        "id": "iu70Lb-AUVZQ"
      },
      "source": [
        "Tweet = data.Field(sequential = True, tokenize = 'spacy', batch_first =True, include_lengths=True)\r\n",
        "Label = data.LabelField(tokenize ='spacy', is_target=True, batch_first =True, sequential =False)"
      ],
      "execution_count": 23,
      "outputs": []
    },
    {
      "cell_type": "code",
      "metadata": {
        "id": "C0ihiOw8UaGz"
      },
      "source": [
        "fields = [('tweets', Tweet),('labels',Label)]"
      ],
      "execution_count": 24,
      "outputs": []
    },
    {
      "cell_type": "code",
      "metadata": {
        "id": "uCUffMeJUZ-t"
      },
      "source": [
        "example = [data.Example.fromlist([augdf.text.iloc[i], augdf.sentiment.iloc[i]], fields) for i in range(augdf.shape[0])] \r\n",
        "AppleAugTrainDataset = data.Dataset(example, fields)"
      ],
      "execution_count": 25,
      "outputs": []
    },
    {
      "cell_type": "code",
      "metadata": {
        "id": "ZZnTifxkUZ2z"
      },
      "source": [
        "example = [data.Example.fromlist([traindf.text.iloc[i], traindf.sentiment.iloc[i]], fields) for i in range(traindf.shape[0])] \r\n",
        "AppleTrainDataset = data.Dataset(example, fields)"
      ],
      "execution_count": 26,
      "outputs": []
    },
    {
      "cell_type": "code",
      "metadata": {
        "id": "HzkMO5LCUZsW"
      },
      "source": [
        "example = [data.Example.fromlist([testdf.text.iloc[i], testdf.sentiment.iloc[i]], fields) for i in range(testdf.shape[0])] \r\n",
        "AppleTestDataset = data.Dataset(example,fields)"
      ],
      "execution_count": 27,
      "outputs": []
    },
    {
      "cell_type": "code",
      "metadata": {
        "id": "SaGciYDFUoXl"
      },
      "source": [
        "(train, valid) = AppleTrainDataset, AppleTestDataset"
      ],
      "execution_count": 28,
      "outputs": []
    },
    {
      "cell_type": "code",
      "metadata": {
        "colab": {
          "base_uri": "https://localhost:8080/"
        },
        "id": "PKb92hfTUqr8",
        "outputId": "90cf3fb1-baf4-42fd-9b02-c1a879167034"
      },
      "source": [
        "len(train), len(valid)"
      ],
      "execution_count": 29,
      "outputs": [
        {
          "output_type": "execute_result",
          "data": {
            "text/plain": [
              "(3043, 761)"
            ]
          },
          "metadata": {
            "tags": []
          },
          "execution_count": 29
        }
      ]
    },
    {
      "cell_type": "code",
      "metadata": {
        "id": "NXPQPgTOUsZY"
      },
      "source": [
        "\r\n",
        "\r\n",
        "Tweet.build_vocab(train)\r\n",
        "Label.build_vocab(train)"
      ],
      "execution_count": 30,
      "outputs": []
    },
    {
      "cell_type": "code",
      "metadata": {
        "colab": {
          "base_uri": "https://localhost:8080/"
        },
        "id": "EO6H4ZU9Uubv",
        "outputId": "0b4f7975-8476-4849-bce7-fc7f9bdccbc1"
      },
      "source": [
        "device = torch.device(\"cuda\" if torch.cuda.is_available() else \"cpu\")\r\n",
        "device"
      ],
      "execution_count": 31,
      "outputs": [
        {
          "output_type": "execute_result",
          "data": {
            "text/plain": [
              "device(type='cuda')"
            ]
          },
          "metadata": {
            "tags": []
          },
          "execution_count": 31
        }
      ]
    },
    {
      "cell_type": "code",
      "metadata": {
        "id": "fqJcVxHqUxqD"
      },
      "source": [
        "train_iterator, valid_iterator = data.BucketIterator.splits((train, valid), batch_size = 32, \r\n",
        "                                                            sort_key = lambda x: len(x.tweets),\r\n",
        "                                                            sort_within_batch=True, device = device)"
      ],
      "execution_count": 32,
      "outputs": []
    },
    {
      "cell_type": "code",
      "metadata": {
        "id": "NYNOlUbkUzpP"
      },
      "source": [
        "\r\n",
        "import os, pickle\r\n",
        "with open('tokenizer.pkl', 'wb') as tokens: \r\n",
        "    pickle.dump(Tweet.vocab.stoi, tokens)"
      ],
      "execution_count": 33,
      "outputs": []
    },
    {
      "cell_type": "code",
      "metadata": {
        "id": "qbyDKV80U1mw"
      },
      "source": [
        "import torch.nn as nn\r\n",
        "import torch.nn.functional as F\r\n",
        "\r\n",
        "class classifier(nn.Module):\r\n",
        "    \r\n",
        "    # Define all the layers used in model\r\n",
        "    def __init__(self, vocab_size, embedding_dim, hidden_dim, output_dim, n_layers, dropout):\r\n",
        "        \r\n",
        "        super().__init__()          \r\n",
        "        \r\n",
        "        # Embedding layer\r\n",
        "        self.embedding = nn.Embedding(vocab_size, embedding_dim)\r\n",
        "        \r\n",
        "        # LSTM layer\r\n",
        "        self.encoder = nn.LSTM(embedding_dim, \r\n",
        "                           hidden_dim, \r\n",
        "                           num_layers=n_layers, \r\n",
        "                           dropout=dropout,\r\n",
        "                           batch_first=True)\r\n",
        "        # try using nn.GRU or nn.RNN here and compare their performances\r\n",
        "        # try bidirectional and compare their performances\r\n",
        "        \r\n",
        "        # Dense layer\r\n",
        "        self.fc = nn.Linear(hidden_dim, output_dim)\r\n",
        "        \r\n",
        "    def forward(self, text, text_lengths):\r\n",
        "        \r\n",
        "        # text = [batch size, sent_length]\r\n",
        "        embedded = self.embedding(text)\r\n",
        "        # embedded = [batch size, sent_len, emb dim]\r\n",
        "      \r\n",
        "        # packed sequence\r\n",
        "        packed_embedded = nn.utils.rnn.pack_padded_sequence(embedded, text_lengths.cpu(), batch_first=True)\r\n",
        "        \r\n",
        "        packed_output, (hidden, cell) = self.encoder(packed_embedded)\r\n",
        "        #hidden = [batch size, num layers * num directions,hid dim]\r\n",
        "        #cell = [batch size, num layers * num directions,hid dim]\r\n",
        "    \r\n",
        "        # Hidden = [batch size, hid dim * num directions]\r\n",
        "        dense_outputs = self.fc(hidden)   \r\n",
        "        \r\n",
        "        # Final activation function softmax\r\n",
        "        output = F.softmax(dense_outputs[0], dim=1)\r\n",
        "            \r\n",
        "        return output"
      ],
      "execution_count": 34,
      "outputs": []
    },
    {
      "cell_type": "code",
      "metadata": {
        "id": "uKGMtiNvU2-o"
      },
      "source": [
        "# Define hyperparameters\r\n",
        "size_of_vocab = len(Tweet.vocab)\r\n",
        "embedding_dim = 300\r\n",
        "num_hidden_nodes = 100\r\n",
        "num_output_nodes = 3\r\n",
        "num_layers = 2\r\n",
        "dropout = 0.3\r\n",
        "\r\n",
        "# Instantiate the model\r\n",
        "model = classifier(size_of_vocab, embedding_dim, num_hidden_nodes, num_output_nodes, num_layers, dropout = dropout)"
      ],
      "execution_count": 35,
      "outputs": []
    },
    {
      "cell_type": "code",
      "metadata": {
        "colab": {
          "base_uri": "https://localhost:8080/"
        },
        "id": "-RR2N9J6U4Q3",
        "outputId": "c215ea19-2ce8-4959-cf4d-6a7fb419f7de"
      },
      "source": [
        "print(model)\r\n",
        "\r\n",
        "#No. of trianable parameters\r\n",
        "def count_parameters(model):\r\n",
        "    return sum(p.numel() for p in model.parameters() if p.requires_grad)\r\n",
        "    \r\n",
        "print(f'The model has {count_parameters(model):,} trainable parameters')"
      ],
      "execution_count": 36,
      "outputs": [
        {
          "output_type": "stream",
          "text": [
            "classifier(\n",
            "  (embedding): Embedding(6796, 300)\n",
            "  (encoder): LSTM(300, 100, num_layers=2, batch_first=True, dropout=0.3)\n",
            "  (fc): Linear(in_features=100, out_features=3, bias=True)\n",
            ")\n",
            "The model has 2,280,703 trainable parameters\n"
          ],
          "name": "stdout"
        }
      ]
    },
    {
      "cell_type": "code",
      "metadata": {
        "id": "piz0ZOofU5nC"
      },
      "source": [
        "import torch.optim as optim\r\n",
        "\r\n",
        "# define optimizer and loss\r\n",
        "optimizer = optim.Adam(model.parameters(), lr=0.001)\r\n",
        "criterion = nn.CrossEntropyLoss()\r\n",
        "\r\n",
        "# define metric\r\n",
        "def binary_accuracy(preds, y):\r\n",
        "    #round predictions to the closest integer\r\n",
        "    _, predictions = torch.max(preds, 1)\r\n",
        "    \r\n",
        "    correct = (predictions == y).float() \r\n",
        "    acc = correct.sum() / len(correct)\r\n",
        "    return acc\r\n",
        "    \r\n",
        "# push to cuda if available\r\n",
        "model = model.to(device)\r\n",
        "criterion = criterion.to(device)"
      ],
      "execution_count": 37,
      "outputs": []
    },
    {
      "cell_type": "code",
      "metadata": {
        "id": "hr03oaEIU7WY"
      },
      "source": [
        "def train(model, iterator, optimizer, criterion):\r\n",
        "    \r\n",
        "    # initialize every epoch \r\n",
        "    epoch_loss = 0\r\n",
        "    epoch_acc = 0\r\n",
        "    \r\n",
        "    # set the model in training phase\r\n",
        "    model.train()  \r\n",
        "    \r\n",
        "    for batch in iterator:\r\n",
        "        \r\n",
        "        # resets the gradients after every batch\r\n",
        "        optimizer.zero_grad()   \r\n",
        "        \r\n",
        "        # retrieve text and no. of words\r\n",
        "        tweet, tweet_lengths = batch.tweets   \r\n",
        "        \r\n",
        "        # convert to 1D tensor\r\n",
        "        predictions = model(tweet, tweet_lengths).squeeze()  \r\n",
        "        \r\n",
        "        # compute the loss\r\n",
        "        loss = criterion(predictions, batch.labels)        \r\n",
        "        \r\n",
        "        # compute the binary accuracy\r\n",
        "        acc = binary_accuracy(predictions, batch.labels)   \r\n",
        "        \r\n",
        "        # backpropage the loss and compute the gradients\r\n",
        "        loss.backward()       \r\n",
        "        \r\n",
        "        # update the weights\r\n",
        "        optimizer.step()      \r\n",
        "        \r\n",
        "        # loss and accuracy\r\n",
        "        epoch_loss += loss.item()  \r\n",
        "        epoch_acc += acc.item()    \r\n",
        "        \r\n",
        "    return epoch_loss / len(iterator), epoch_acc / len(iterator)"
      ],
      "execution_count": 38,
      "outputs": []
    },
    {
      "cell_type": "code",
      "metadata": {
        "id": "qLPitGLlU9Gc"
      },
      "source": [
        "def evaluate(model, iterator, criterion):\r\n",
        "    \r\n",
        "    # initialize every epoch\r\n",
        "    epoch_loss = 0\r\n",
        "    epoch_acc = 0\r\n",
        "\r\n",
        "    # deactivating dropout layers\r\n",
        "    model.eval()\r\n",
        "    \r\n",
        "    # deactivates autograd\r\n",
        "    with torch.no_grad():\r\n",
        "    \r\n",
        "        for batch in iterator:\r\n",
        "        \r\n",
        "            # retrieve text and no. of words\r\n",
        "            tweet, tweet_lengths = batch.tweets\r\n",
        "            \r\n",
        "            # convert to 1d tensor\r\n",
        "            predictions = model(tweet, tweet_lengths).squeeze()\r\n",
        "            \r\n",
        "            # compute loss and accuracy\r\n",
        "            loss = criterion(predictions, batch.labels)\r\n",
        "            acc = binary_accuracy(predictions, batch.labels)\r\n",
        "            \r\n",
        "            # keep track of loss and accuracy\r\n",
        "            epoch_loss += loss.item()\r\n",
        "            epoch_acc += acc.item()\r\n",
        "        \r\n",
        "    return epoch_loss / len(iterator), epoch_acc / len(iterator)"
      ],
      "execution_count": 39,
      "outputs": []
    },
    {
      "cell_type": "code",
      "metadata": {
        "colab": {
          "base_uri": "https://localhost:8080/"
        },
        "id": "OeFaj3-JU--3",
        "outputId": "948c87b5-a705-4b64-c3bd-94f4d9b4f97b"
      },
      "source": [
        "N_EPOCHS = 100\r\n",
        "best_valid_loss = float('inf')\r\n",
        "acc_values = {'train' : [], 'valid' : []}\r\n",
        "loss_values = {'train' : [], 'valid' : []}\r\n",
        "\r\n",
        "for epoch in range(N_EPOCHS):\r\n",
        "     \r\n",
        "    # train the model\r\n",
        "    train_loss, train_acc = train(model, train_iterator, optimizer, criterion)\r\n",
        "    \r\n",
        "    # evaluate the model\r\n",
        "    valid_loss, valid_acc = evaluate(model, valid_iterator, criterion)\r\n",
        "\r\n",
        "    acc_values['train'].append(train_acc)\r\n",
        "    acc_values['valid'].append(valid_acc)\r\n",
        "    loss_values['train'].append(train_loss)\r\n",
        "    loss_values['valid'].append(valid_loss)\r\n",
        "    \r\n",
        "    # save the best model\r\n",
        "    if valid_loss < best_valid_loss:\r\n",
        "        best_valid_loss = valid_loss\r\n",
        "        torch.save(model.state_dict(), 'saved_weights.pt')\r\n",
        "    \r\n",
        "    print(f'Epoch : {epoch}\\n\\tTrain Loss: {train_loss:.3f} | Train Acc: {train_acc*100:.2f}%')\r\n",
        "    print(f'\\t Val. Loss: {valid_loss:.3f} |  Val. Acc: {valid_acc*100:.2f}% \\n')"
      ],
      "execution_count": 40,
      "outputs": [
        {
          "output_type": "stream",
          "text": [
            "Epoch : 0\n",
            "\tTrain Loss: 0.948 | Train Acc: 60.15%\n",
            "\t Val. Loss: 0.888 |  Val. Acc: 65.45% \n",
            "\n",
            "Epoch : 1\n",
            "\tTrain Loss: 0.820 | Train Acc: 73.50%\n",
            "\t Val. Loss: 0.842 |  Val. Acc: 70.93% \n",
            "\n",
            "Epoch : 2\n",
            "\tTrain Loss: 0.771 | Train Acc: 78.19%\n",
            "\t Val. Loss: 0.842 |  Val. Acc: 69.59% \n",
            "\n",
            "Epoch : 3\n",
            "\tTrain Loss: 0.737 | Train Acc: 81.71%\n",
            "\t Val. Loss: 0.837 |  Val. Acc: 70.93% \n",
            "\n",
            "Epoch : 4\n",
            "\tTrain Loss: 0.713 | Train Acc: 84.02%\n",
            "\t Val. Loss: 0.831 |  Val. Acc: 71.49% \n",
            "\n",
            "Epoch : 5\n",
            "\tTrain Loss: 0.693 | Train Acc: 86.56%\n",
            "\t Val. Loss: 0.841 |  Val. Acc: 70.28% \n",
            "\n",
            "Epoch : 6\n",
            "\tTrain Loss: 0.678 | Train Acc: 87.89%\n",
            "\t Val. Loss: 0.840 |  Val. Acc: 70.74% \n",
            "\n",
            "Epoch : 7\n",
            "\tTrain Loss: 0.666 | Train Acc: 88.96%\n",
            "\t Val. Loss: 0.853 |  Val. Acc: 68.85% \n",
            "\n",
            "Epoch : 8\n",
            "\tTrain Loss: 0.672 | Train Acc: 88.64%\n",
            "\t Val. Loss: 0.845 |  Val. Acc: 69.69% \n",
            "\n",
            "Epoch : 9\n",
            "\tTrain Loss: 0.650 | Train Acc: 90.30%\n",
            "\t Val. Loss: 0.844 |  Val. Acc: 70.34% \n",
            "\n",
            "Epoch : 10\n",
            "\tTrain Loss: 0.644 | Train Acc: 90.92%\n",
            "\t Val. Loss: 0.842 |  Val. Acc: 70.11% \n",
            "\n",
            "Epoch : 11\n",
            "\tTrain Loss: 0.642 | Train Acc: 91.08%\n",
            "\t Val. Loss: 0.842 |  Val. Acc: 69.63% \n",
            "\n",
            "Epoch : 12\n",
            "\tTrain Loss: 0.639 | Train Acc: 91.24%\n",
            "\t Val. Loss: 0.842 |  Val. Acc: 70.28% \n",
            "\n",
            "Epoch : 13\n",
            "\tTrain Loss: 0.637 | Train Acc: 91.47%\n",
            "\t Val. Loss: 0.837 |  Val. Acc: 70.54% \n",
            "\n",
            "Epoch : 14\n",
            "\tTrain Loss: 0.636 | Train Acc: 91.57%\n",
            "\t Val. Loss: 0.833 |  Val. Acc: 71.03% \n",
            "\n",
            "Epoch : 15\n",
            "\tTrain Loss: 0.634 | Train Acc: 91.83%\n",
            "\t Val. Loss: 0.832 |  Val. Acc: 71.06% \n",
            "\n",
            "Epoch : 16\n",
            "\tTrain Loss: 0.633 | Train Acc: 91.89%\n",
            "\t Val. Loss: 0.833 |  Val. Acc: 70.67% \n",
            "\n",
            "Epoch : 17\n",
            "\tTrain Loss: 0.632 | Train Acc: 91.89%\n",
            "\t Val. Loss: 0.841 |  Val. Acc: 70.15% \n",
            "\n",
            "Epoch : 18\n",
            "\tTrain Loss: 0.631 | Train Acc: 91.99%\n",
            "\t Val. Loss: 0.836 |  Val. Acc: 70.37% \n",
            "\n",
            "Epoch : 19\n",
            "\tTrain Loss: 0.631 | Train Acc: 92.09%\n",
            "\t Val. Loss: 0.832 |  Val. Acc: 71.06% \n",
            "\n",
            "Epoch : 20\n",
            "\tTrain Loss: 0.631 | Train Acc: 92.06%\n",
            "\t Val. Loss: 0.833 |  Val. Acc: 71.16% \n",
            "\n",
            "Epoch : 21\n",
            "\tTrain Loss: 0.630 | Train Acc: 92.15%\n",
            "\t Val. Loss: 0.830 |  Val. Acc: 71.32% \n",
            "\n",
            "Epoch : 22\n",
            "\tTrain Loss: 0.629 | Train Acc: 92.19%\n",
            "\t Val. Loss: 0.831 |  Val. Acc: 71.19% \n",
            "\n",
            "Epoch : 23\n",
            "\tTrain Loss: 0.629 | Train Acc: 92.29%\n",
            "\t Val. Loss: 0.832 |  Val. Acc: 71.06% \n",
            "\n",
            "Epoch : 24\n",
            "\tTrain Loss: 0.628 | Train Acc: 92.35%\n",
            "\t Val. Loss: 0.839 |  Val. Acc: 70.82% \n",
            "\n",
            "Epoch : 25\n",
            "\tTrain Loss: 0.627 | Train Acc: 92.42%\n",
            "\t Val. Loss: 0.833 |  Val. Acc: 71.38% \n",
            "\n",
            "Epoch : 26\n",
            "\tTrain Loss: 0.626 | Train Acc: 92.48%\n",
            "\t Val. Loss: 0.837 |  Val. Acc: 70.86% \n",
            "\n",
            "Epoch : 27\n",
            "\tTrain Loss: 0.627 | Train Acc: 92.45%\n",
            "\t Val. Loss: 0.831 |  Val. Acc: 71.12% \n",
            "\n",
            "Epoch : 28\n",
            "\tTrain Loss: 0.626 | Train Acc: 92.55%\n",
            "\t Val. Loss: 0.827 |  Val. Acc: 71.97% \n",
            "\n",
            "Epoch : 29\n",
            "\tTrain Loss: 0.625 | Train Acc: 92.68%\n",
            "\t Val. Loss: 0.832 |  Val. Acc: 71.38% \n",
            "\n",
            "Epoch : 30\n",
            "\tTrain Loss: 0.633 | Train Acc: 91.89%\n",
            "\t Val. Loss: 0.820 |  Val. Acc: 72.03% \n",
            "\n",
            "Epoch : 31\n",
            "\tTrain Loss: 0.627 | Train Acc: 92.45%\n",
            "\t Val. Loss: 0.839 |  Val. Acc: 71.06% \n",
            "\n",
            "Epoch : 32\n",
            "\tTrain Loss: 0.625 | Train Acc: 92.68%\n",
            "\t Val. Loss: 0.830 |  Val. Acc: 71.32% \n",
            "\n",
            "Epoch : 33\n",
            "\tTrain Loss: 0.621 | Train Acc: 93.00%\n",
            "\t Val. Loss: 0.825 |  Val. Acc: 72.46% \n",
            "\n",
            "Epoch : 34\n",
            "\tTrain Loss: 0.620 | Train Acc: 93.10%\n",
            "\t Val. Loss: 0.825 |  Val. Acc: 72.10% \n",
            "\n",
            "Epoch : 35\n",
            "\tTrain Loss: 0.618 | Train Acc: 93.29%\n",
            "\t Val. Loss: 0.824 |  Val. Acc: 72.23% \n",
            "\n",
            "Epoch : 36\n",
            "\tTrain Loss: 0.618 | Train Acc: 93.39%\n",
            "\t Val. Loss: 0.823 |  Val. Acc: 72.49% \n",
            "\n",
            "Epoch : 37\n",
            "\tTrain Loss: 0.617 | Train Acc: 93.42%\n",
            "\t Val. Loss: 0.825 |  Val. Acc: 72.33% \n",
            "\n",
            "Epoch : 38\n",
            "\tTrain Loss: 0.617 | Train Acc: 93.46%\n",
            "\t Val. Loss: 0.826 |  Val. Acc: 71.81% \n",
            "\n",
            "Epoch : 39\n",
            "\tTrain Loss: 0.616 | Train Acc: 93.49%\n",
            "\t Val. Loss: 0.831 |  Val. Acc: 71.42% \n",
            "\n",
            "Epoch : 40\n",
            "\tTrain Loss: 0.616 | Train Acc: 93.46%\n",
            "\t Val. Loss: 0.828 |  Val. Acc: 71.71% \n",
            "\n",
            "Epoch : 41\n",
            "\tTrain Loss: 0.615 | Train Acc: 93.59%\n",
            "\t Val. Loss: 0.831 |  Val. Acc: 71.45% \n",
            "\n",
            "Epoch : 42\n",
            "\tTrain Loss: 0.616 | Train Acc: 93.49%\n",
            "\t Val. Loss: 0.833 |  Val. Acc: 71.19% \n",
            "\n",
            "Epoch : 43\n",
            "\tTrain Loss: 0.615 | Train Acc: 93.68%\n",
            "\t Val. Loss: 0.835 |  Val. Acc: 71.58% \n",
            "\n",
            "Epoch : 44\n",
            "\tTrain Loss: 0.615 | Train Acc: 93.65%\n",
            "\t Val. Loss: 0.832 |  Val. Acc: 71.71% \n",
            "\n",
            "Epoch : 45\n",
            "\tTrain Loss: 0.614 | Train Acc: 93.82%\n",
            "\t Val. Loss: 0.839 |  Val. Acc: 70.64% \n",
            "\n",
            "Epoch : 46\n",
            "\tTrain Loss: 0.613 | Train Acc: 93.82%\n",
            "\t Val. Loss: 0.835 |  Val. Acc: 71.16% \n",
            "\n",
            "Epoch : 47\n",
            "\tTrain Loss: 0.613 | Train Acc: 93.85%\n",
            "\t Val. Loss: 0.833 |  Val. Acc: 71.16% \n",
            "\n",
            "Epoch : 48\n",
            "\tTrain Loss: 0.613 | Train Acc: 93.88%\n",
            "\t Val. Loss: 0.830 |  Val. Acc: 71.68% \n",
            "\n",
            "Epoch : 49\n",
            "\tTrain Loss: 0.612 | Train Acc: 93.91%\n",
            "\t Val. Loss: 0.830 |  Val. Acc: 71.81% \n",
            "\n",
            "Epoch : 50\n",
            "\tTrain Loss: 0.612 | Train Acc: 93.88%\n",
            "\t Val. Loss: 0.829 |  Val. Acc: 71.42% \n",
            "\n",
            "Epoch : 51\n",
            "\tTrain Loss: 0.612 | Train Acc: 93.91%\n",
            "\t Val. Loss: 0.832 |  Val. Acc: 71.45% \n",
            "\n",
            "Epoch : 52\n",
            "\tTrain Loss: 0.612 | Train Acc: 93.88%\n",
            "\t Val. Loss: 0.834 |  Val. Acc: 70.93% \n",
            "\n",
            "Epoch : 53\n",
            "\tTrain Loss: 0.612 | Train Acc: 93.98%\n",
            "\t Val. Loss: 0.833 |  Val. Acc: 71.06% \n",
            "\n",
            "Epoch : 54\n",
            "\tTrain Loss: 0.611 | Train Acc: 93.98%\n",
            "\t Val. Loss: 0.832 |  Val. Acc: 70.93% \n",
            "\n",
            "Epoch : 55\n",
            "\tTrain Loss: 0.612 | Train Acc: 93.95%\n",
            "\t Val. Loss: 0.834 |  Val. Acc: 70.67% \n",
            "\n",
            "Epoch : 56\n",
            "\tTrain Loss: 0.611 | Train Acc: 94.01%\n",
            "\t Val. Loss: 0.837 |  Val. Acc: 70.54% \n",
            "\n",
            "Epoch : 57\n",
            "\tTrain Loss: 0.611 | Train Acc: 94.04%\n",
            "\t Val. Loss: 0.835 |  Val. Acc: 71.19% \n",
            "\n",
            "Epoch : 58\n",
            "\tTrain Loss: 0.611 | Train Acc: 94.01%\n",
            "\t Val. Loss: 0.833 |  Val. Acc: 71.58% \n",
            "\n",
            "Epoch : 59\n",
            "\tTrain Loss: 0.611 | Train Acc: 94.04%\n",
            "\t Val. Loss: 0.831 |  Val. Acc: 71.71% \n",
            "\n",
            "Epoch : 60\n",
            "\tTrain Loss: 0.614 | Train Acc: 93.68%\n",
            "\t Val. Loss: 0.832 |  Val. Acc: 71.29% \n",
            "\n",
            "Epoch : 61\n",
            "\tTrain Loss: 0.612 | Train Acc: 93.98%\n",
            "\t Val. Loss: 0.825 |  Val. Acc: 72.07% \n",
            "\n",
            "Epoch : 62\n",
            "\tTrain Loss: 0.611 | Train Acc: 94.08%\n",
            "\t Val. Loss: 0.853 |  Val. Acc: 68.81% \n",
            "\n",
            "Epoch : 63\n",
            "\tTrain Loss: 0.611 | Train Acc: 94.08%\n",
            "\t Val. Loss: 0.842 |  Val. Acc: 69.76% \n",
            "\n",
            "Epoch : 64\n",
            "\tTrain Loss: 0.609 | Train Acc: 94.27%\n",
            "\t Val. Loss: 0.832 |  Val. Acc: 71.68% \n",
            "\n",
            "Epoch : 65\n",
            "\tTrain Loss: 0.611 | Train Acc: 94.01%\n",
            "\t Val. Loss: 0.866 |  Val. Acc: 67.45% \n",
            "\n",
            "Epoch : 66\n",
            "\tTrain Loss: 0.611 | Train Acc: 93.98%\n",
            "\t Val. Loss: 0.879 |  Val. Acc: 66.15% \n",
            "\n",
            "Epoch : 67\n",
            "\tTrain Loss: 0.610 | Train Acc: 94.04%\n",
            "\t Val. Loss: 0.859 |  Val. Acc: 68.36% \n",
            "\n",
            "Epoch : 68\n",
            "\tTrain Loss: 0.609 | Train Acc: 94.24%\n",
            "\t Val. Loss: 0.860 |  Val. Acc: 68.36% \n",
            "\n",
            "Epoch : 69\n",
            "\tTrain Loss: 0.609 | Train Acc: 94.21%\n",
            "\t Val. Loss: 0.855 |  Val. Acc: 68.68% \n",
            "\n",
            "Epoch : 70\n",
            "\tTrain Loss: 0.607 | Train Acc: 94.40%\n",
            "\t Val. Loss: 0.850 |  Val. Acc: 69.37% \n",
            "\n",
            "Epoch : 71\n",
            "\tTrain Loss: 0.609 | Train Acc: 94.27%\n",
            "\t Val. Loss: 0.847 |  Val. Acc: 69.11% \n",
            "\n",
            "Epoch : 72\n",
            "\tTrain Loss: 0.607 | Train Acc: 94.34%\n",
            "\t Val. Loss: 0.842 |  Val. Acc: 69.89% \n",
            "\n",
            "Epoch : 73\n",
            "\tTrain Loss: 0.607 | Train Acc: 94.37%\n",
            "\t Val. Loss: 0.838 |  Val. Acc: 71.03% \n",
            "\n",
            "Epoch : 74\n",
            "\tTrain Loss: 0.608 | Train Acc: 94.37%\n",
            "\t Val. Loss: 0.847 |  Val. Acc: 69.76% \n",
            "\n",
            "Epoch : 75\n",
            "\tTrain Loss: 0.607 | Train Acc: 94.30%\n",
            "\t Val. Loss: 0.844 |  Val. Acc: 70.28% \n",
            "\n",
            "Epoch : 76\n",
            "\tTrain Loss: 0.607 | Train Acc: 94.40%\n",
            "\t Val. Loss: 0.843 |  Val. Acc: 70.15% \n",
            "\n",
            "Epoch : 77\n",
            "\tTrain Loss: 0.607 | Train Acc: 94.37%\n",
            "\t Val. Loss: 0.844 |  Val. Acc: 69.89% \n",
            "\n",
            "Epoch : 78\n",
            "\tTrain Loss: 0.607 | Train Acc: 94.43%\n",
            "\t Val. Loss: 0.844 |  Val. Acc: 70.02% \n",
            "\n",
            "Epoch : 79\n",
            "\tTrain Loss: 0.607 | Train Acc: 94.37%\n",
            "\t Val. Loss: 0.844 |  Val. Acc: 70.02% \n",
            "\n",
            "Epoch : 80\n",
            "\tTrain Loss: 0.607 | Train Acc: 94.43%\n",
            "\t Val. Loss: 0.843 |  Val. Acc: 69.89% \n",
            "\n",
            "Epoch : 81\n",
            "\tTrain Loss: 0.607 | Train Acc: 94.40%\n",
            "\t Val. Loss: 0.843 |  Val. Acc: 70.02% \n",
            "\n",
            "Epoch : 82\n",
            "\tTrain Loss: 0.607 | Train Acc: 94.43%\n",
            "\t Val. Loss: 0.843 |  Val. Acc: 69.76% \n",
            "\n",
            "Epoch : 83\n",
            "\tTrain Loss: 0.607 | Train Acc: 94.43%\n",
            "\t Val. Loss: 0.843 |  Val. Acc: 69.89% \n",
            "\n",
            "Epoch : 84\n",
            "\tTrain Loss: 0.607 | Train Acc: 94.37%\n",
            "\t Val. Loss: 0.842 |  Val. Acc: 70.02% \n",
            "\n",
            "Epoch : 85\n",
            "\tTrain Loss: 0.607 | Train Acc: 94.40%\n",
            "\t Val. Loss: 0.842 |  Val. Acc: 69.89% \n",
            "\n",
            "Epoch : 86\n",
            "\tTrain Loss: 0.607 | Train Acc: 94.40%\n",
            "\t Val. Loss: 0.842 |  Val. Acc: 70.02% \n",
            "\n",
            "Epoch : 87\n",
            "\tTrain Loss: 0.607 | Train Acc: 94.34%\n",
            "\t Val. Loss: 0.842 |  Val. Acc: 69.89% \n",
            "\n",
            "Epoch : 88\n",
            "\tTrain Loss: 0.607 | Train Acc: 94.43%\n",
            "\t Val. Loss: 0.841 |  Val. Acc: 69.89% \n",
            "\n",
            "Epoch : 89\n",
            "\tTrain Loss: 0.606 | Train Acc: 94.43%\n",
            "\t Val. Loss: 0.842 |  Val. Acc: 70.15% \n",
            "\n",
            "Epoch : 90\n",
            "\tTrain Loss: 0.606 | Train Acc: 94.47%\n",
            "\t Val. Loss: 0.840 |  Val. Acc: 70.28% \n",
            "\n",
            "Epoch : 91\n",
            "\tTrain Loss: 0.611 | Train Acc: 94.11%\n",
            "\t Val. Loss: 0.873 |  Val. Acc: 67.16% \n",
            "\n",
            "Epoch : 92\n",
            "\tTrain Loss: 0.611 | Train Acc: 94.08%\n",
            "\t Val. Loss: 0.834 |  Val. Acc: 71.16% \n",
            "\n",
            "Epoch : 93\n",
            "\tTrain Loss: 0.607 | Train Acc: 94.40%\n",
            "\t Val. Loss: 0.832 |  Val. Acc: 70.99% \n",
            "\n",
            "Epoch : 94\n",
            "\tTrain Loss: 0.607 | Train Acc: 94.43%\n",
            "\t Val. Loss: 0.844 |  Val. Acc: 70.51% \n",
            "\n",
            "Epoch : 95\n",
            "\tTrain Loss: 0.605 | Train Acc: 94.53%\n",
            "\t Val. Loss: 0.842 |  Val. Acc: 70.37% \n",
            "\n",
            "Epoch : 96\n",
            "\tTrain Loss: 0.605 | Train Acc: 94.60%\n",
            "\t Val. Loss: 0.840 |  Val. Acc: 70.99% \n",
            "\n",
            "Epoch : 97\n",
            "\tTrain Loss: 0.605 | Train Acc: 94.53%\n",
            "\t Val. Loss: 0.836 |  Val. Acc: 71.34% \n",
            "\n",
            "Epoch : 98\n",
            "\tTrain Loss: 0.604 | Train Acc: 94.69%\n",
            "\t Val. Loss: 0.837 |  Val. Acc: 71.47% \n",
            "\n",
            "Epoch : 99\n",
            "\tTrain Loss: 0.604 | Train Acc: 94.66%\n",
            "\t Val. Loss: 0.837 |  Val. Acc: 71.21% \n",
            "\n"
          ],
          "name": "stdout"
        }
      ]
    },
    {
      "cell_type": "code",
      "metadata": {
        "colab": {
          "base_uri": "https://localhost:8080/"
        },
        "id": "tJ9rEb-mVAZS",
        "outputId": "20d6fcf1-6a2e-4be5-fbbc-376ab196af37"
      },
      "source": [
        "max(acc_values['train']), max(acc_values['valid'])"
      ],
      "execution_count": 41,
      "outputs": [
        {
          "output_type": "execute_result",
          "data": {
            "text/plain": [
              "(0.9469401041666666, 0.7249479169646899)"
            ]
          },
          "metadata": {
            "tags": []
          },
          "execution_count": 41
        }
      ]
    },
    {
      "cell_type": "code",
      "metadata": {
        "id": "BJD31ECBVE-X"
      },
      "source": [
        "(train, valid) = AppleAugTrainDataset, AppleTestDataset"
      ],
      "execution_count": 159,
      "outputs": []
    },
    {
      "cell_type": "markdown",
      "metadata": {
        "id": "xLPnNEiqnTW_"
      },
      "source": [
        ""
      ]
    },
    {
      "cell_type": "code",
      "metadata": {
        "colab": {
          "base_uri": "https://localhost:8080/"
        },
        "id": "XlOw_0v8VE6r",
        "outputId": "22c23efe-912c-4cf8-8207-30a9df141c83"
      },
      "source": [
        "len(train), len(valid)"
      ],
      "execution_count": 160,
      "outputs": [
        {
          "output_type": "execute_result",
          "data": {
            "text/plain": [
              "(5325, 761)"
            ]
          },
          "metadata": {
            "tags": []
          },
          "execution_count": 160
        }
      ]
    },
    {
      "cell_type": "code",
      "metadata": {
        "colab": {
          "base_uri": "https://localhost:8080/"
        },
        "id": "KVtcikrnVE3o",
        "outputId": "3a9c3c02-cb5d-461b-dd72-4a95b2af4bdb"
      },
      "source": [
        "Tweet.build_vocab(train)\r\n",
        "Label.build_vocab(train)\r\n",
        "print('Size of input vocab : ', len(Tweet.vocab))\r\n",
        "print('Size of label vocab : ', len(Label.vocab))\r\n",
        "print('Top 10 words appreared repeatedly :', list(Tweet.vocab.freqs.most_common(10)))\r\n",
        "print('Labels : ', Label.vocab.stoi)"
      ],
      "execution_count": 161,
      "outputs": [
        {
          "output_type": "stream",
          "text": [
            "Size of input vocab :  9363\n",
            "Size of label vocab :  3\n",
            "Top 10 words appreared repeatedly : [(' ', 2715), ('.', 2389), ('the', 2087), ('!', 1999), (':', 1727), (',', 1572), ('to', 1350), ('in', 1078), ('Apple', 1052), ('of', 1011)]\n",
            "Labels :  defaultdict(<function _default_unk_index at 0x7faba9163950>, {'3': 0, '1': 1, '5': 2})\n"
          ],
          "name": "stdout"
        }
      ]
    },
    {
      "cell_type": "code",
      "metadata": {
        "id": "5fhK4uWXVE1H"
      },
      "source": [
        "train_iterator, valid_iterator = data.BucketIterator.splits((train, valid), batch_size = 32, \r\n",
        "                                                            sort_key = lambda x: len(x.tweets),\r\n",
        "                                                            sort_within_batch=True, device = device)"
      ],
      "execution_count": 162,
      "outputs": []
    },
    {
      "cell_type": "code",
      "metadata": {
        "id": "FMwCs3M2VEyu"
      },
      "source": [
        "import torch.nn as nn\r\n",
        "import torch.nn.functional as F\r\n",
        "\r\n",
        "class classifier(nn.Module):\r\n",
        "    \r\n",
        "    # Define all the layers used in model\r\n",
        "    def __init__(self, vocab_size, embedding_dim, hidden_dim, output_dim, n_layers, dropout):\r\n",
        "        \r\n",
        "        super().__init__()          \r\n",
        "        \r\n",
        "        # Embedding layer\r\n",
        "        self.embedding = nn.Embedding(vocab_size, embedding_dim)\r\n",
        "        \r\n",
        "        # LSTM layer\r\n",
        "        self.encoder = nn.LSTM(embedding_dim, \r\n",
        "                           hidden_dim, \r\n",
        "                           num_layers=n_layers, \r\n",
        "                           dropout=dropout,\r\n",
        "                           batch_first=True)\r\n",
        "        # try using nn.GRU or nn.RNN here and compare their performances\r\n",
        "        # try bidirectional and compare their performances\r\n",
        "        \r\n",
        "        # Dense layer\r\n",
        "        self.fc = nn.Linear(hidden_dim, output_dim)\r\n",
        "        \r\n",
        "    def forward(self, text, text_lengths):\r\n",
        "        \r\n",
        "        # text = [batch size, sent_length]\r\n",
        "        embedded = self.embedding(text)\r\n",
        "        # embedded = [batch size, sent_len, emb dim]\r\n",
        "      \r\n",
        "        # packed sequence\r\n",
        "        packed_embedded = nn.utils.rnn.pack_padded_sequence(embedded, text_lengths.cpu(), batch_first=True)\r\n",
        "        \r\n",
        "        packed_output, (hidden, cell) = self.encoder(packed_embedded)\r\n",
        "        #hidden = [batch size, num layers * num directions,hid dim]\r\n",
        "        #cell = [batch size, num layers * num directions,hid dim]\r\n",
        "    \r\n",
        "        # Hidden = [batch size, hid dim * num directions]\r\n",
        "        dense_outputs = self.fc(hidden)   \r\n",
        "        \r\n",
        "        # Final activation function softmax\r\n",
        "        output = F.softmax(dense_outputs[0], dim=1)\r\n",
        "            \r\n",
        "        return output"
      ],
      "execution_count": 163,
      "outputs": []
    },
    {
      "cell_type": "code",
      "metadata": {
        "id": "k3elx82nVEv2"
      },
      "source": [
        "# Define hyperparameters\r\n",
        "size_of_vocab = len(Tweet.vocab)\r\n",
        "embedding_dim = 300\r\n",
        "num_hidden_nodes = 100\r\n",
        "num_output_nodes = 3\r\n",
        "num_layers = 2\r\n",
        "dropout = 0.3\r\n",
        "\r\n",
        "# Instantiate the model\r\n",
        "model = classifier(size_of_vocab, embedding_dim, num_hidden_nodes, num_output_nodes, num_layers, dropout = dropout)"
      ],
      "execution_count": 164,
      "outputs": []
    },
    {
      "cell_type": "code",
      "metadata": {
        "id": "5lIyATTyVEtO"
      },
      "source": [
        "import torch.optim as optim\r\n",
        "\r\n",
        "# define optimizer and loss\r\n",
        "optimizer = optim.Adam(model.parameters(), lr=0.001)\r\n",
        "criterion = nn.CrossEntropyLoss()\r\n",
        "\r\n",
        "# define metric\r\n",
        "def binary_accuracy(preds, y):\r\n",
        "    #round predictions to the closest integer\r\n",
        "    _, predictions = torch.max(preds, 1)\r\n",
        "    \r\n",
        "    correct = (predictions == y).float() \r\n",
        "    acc = correct.sum() / len(correct)\r\n",
        "    return acc\r\n",
        "    \r\n",
        "# push to cuda if available\r\n",
        "model = model.to(device)\r\n",
        "criterion = criterion.to(device)"
      ],
      "execution_count": 165,
      "outputs": []
    },
    {
      "cell_type": "code",
      "metadata": {
        "id": "qAsM5TUjXYEn"
      },
      "source": [
        "def random_swap(sentence, n=2): \r\n",
        "    length = range(len(sentence)) \r\n",
        "    for _ in range(n):\r\n",
        "        idx1, idx2 = random.sample(length, 2)\r\n",
        "        sentence[idx1], sentence[idx2] = sentence[idx2], sentence[idx1] \r\n",
        "    return sentence"
      ],
      "execution_count": 166,
      "outputs": []
    },
    {
      "cell_type": "code",
      "metadata": {
        "id": "a-q33EE6XrRI"
      },
      "source": [
        "\r\n",
        "def random_deletion(words, p=0.5): \r\n",
        "    if len(words) == 1: # return if single word\r\n",
        "        return words\r\n",
        "    remaining = list(filter(lambda x: random.uniform(0,1) > p,words)) \r\n",
        "    #print(remaining)\r\n",
        "    if len(remaining) == 0: # if not left, sample a random word\r\n",
        "        return [random.choice(words)] \r\n",
        "    else:\r\n",
        "        return remaining\r\n"
      ],
      "execution_count": 167,
      "outputs": []
    },
    {
      "cell_type": "code",
      "metadata": {
        "id": "Hs2ChMHlXZ4E"
      },
      "source": [
        "def postaug(sentence):\r\n",
        "  rate = random.random()\r\n",
        "  if rate < 0.2:\r\n",
        "    return random_swap(sentence)\r\n",
        "  elif rate < 0.5:\r\n",
        "    l = len(sentence)\r\n",
        "    sentence = random_deletion(sentence)\r\n",
        "    return torch.tensor(sentence + [1]*(l-len(sentence)))\r\n",
        "  else:\r\n",
        "    return sentence"
      ],
      "execution_count": 168,
      "outputs": []
    },
    {
      "cell_type": "code",
      "metadata": {
        "id": "eET3PoaTVRYk"
      },
      "source": [
        "def train(model, iterator, optimizer, criterion):\r\n",
        "    \r\n",
        "    # initialize every epoch \r\n",
        "    epoch_loss = 0\r\n",
        "    epoch_acc = 0\r\n",
        "    \r\n",
        "    # set the model in training phase\r\n",
        "    model.train()  \r\n",
        "    \r\n",
        "    for batch in iterator:\r\n",
        "        \r\n",
        "        # resets the gradients after every batch\r\n",
        "        optimizer.zero_grad()   \r\n",
        "        \r\n",
        "        # retrieve text and no. of words\r\n",
        "        tweet, tweet_lengths = batch.tweets   \r\n",
        "        tweet_list = [ postaug(t.cpu()) for t in tweet]\r\n",
        "        \r\n",
        "        tweet = torch.stack(tweet_list).long().to(device)\r\n",
        "        \r\n",
        "        # convert to 1D tensor\r\n",
        "        predictions = model(tweet, tweet_lengths).squeeze()  \r\n",
        "        \r\n",
        "        # compute the loss\r\n",
        "        loss = criterion(predictions, batch.labels)        \r\n",
        "        \r\n",
        "        # compute the binary accuracy\r\n",
        "        acc = binary_accuracy(predictions, batch.labels)   \r\n",
        "        \r\n",
        "        # backpropage the loss and compute the gradients\r\n",
        "        loss.backward()       \r\n",
        "        \r\n",
        "        # update the weights\r\n",
        "        optimizer.step()      \r\n",
        "        \r\n",
        "        # loss and accuracy\r\n",
        "        epoch_loss += loss.item()  \r\n",
        "        epoch_acc += acc.item()    \r\n",
        "        \r\n",
        "    return epoch_loss / len(iterator), epoch_acc / len(iterator)"
      ],
      "execution_count": 169,
      "outputs": []
    },
    {
      "cell_type": "code",
      "metadata": {
        "id": "92iet79VVRPl"
      },
      "source": [
        "def evaluate(model, iterator, criterion):\r\n",
        "    \r\n",
        "    # initialize every epoch\r\n",
        "    epoch_loss = 0\r\n",
        "    epoch_acc = 0\r\n",
        "\r\n",
        "    # deactivating dropout layers\r\n",
        "    model.eval()\r\n",
        "    \r\n",
        "    # deactivates autograd\r\n",
        "    with torch.no_grad():\r\n",
        "    \r\n",
        "        for batch in iterator:\r\n",
        "        \r\n",
        "            # retrieve text and no. of words\r\n",
        "            tweet, tweet_lengths = batch.tweets\r\n",
        "            \r\n",
        "            # convert to 1d tensor\r\n",
        "            predictions = model(tweet, tweet_lengths).squeeze()\r\n",
        "            \r\n",
        "            # compute loss and accuracy\r\n",
        "            loss = criterion(predictions, batch.labels)\r\n",
        "            acc = binary_accuracy(predictions, batch.labels)\r\n",
        "            \r\n",
        "            # keep track of loss and accuracy\r\n",
        "            epoch_loss += loss.item()\r\n",
        "            epoch_acc += acc.item()\r\n",
        "        \r\n",
        "    return epoch_loss / len(iterator), epoch_acc / len(iterator)"
      ],
      "execution_count": 170,
      "outputs": []
    },
    {
      "cell_type": "code",
      "metadata": {
        "colab": {
          "base_uri": "https://localhost:8080/"
        },
        "id": "wfWqHaAgVRGc",
        "outputId": "0b955cde-f695-495c-fbd1-ea26c4dd0f1f"
      },
      "source": [
        "N_EPOCHS = 100\r\n",
        "best_valid_loss = float('inf')\r\n",
        "aug_acc_values = {'train' : [], 'valid' : []}\r\n",
        "aug_loss_values = {'train' : [], 'valid' : []}\r\n",
        "\r\n",
        "for epoch in range(N_EPOCHS):\r\n",
        "     \r\n",
        "    # train the model\r\n",
        "    train_loss, train_acc = train(model, train_iterator, optimizer, criterion)\r\n",
        "    \r\n",
        "    # evaluate the model\r\n",
        "    valid_loss, valid_acc = evaluate(model, valid_iterator, criterion)\r\n",
        "\r\n",
        "    aug_acc_values['train'].append(train_acc)\r\n",
        "    aug_acc_values['valid'].append(valid_acc)\r\n",
        "    aug_loss_values['train'].append(train_loss)\r\n",
        "    aug_loss_values['valid'].append(valid_loss)\r\n",
        "    \r\n",
        "    # save the best model\r\n",
        "    if valid_loss < best_valid_loss:\r\n",
        "        best_valid_loss = valid_loss\r\n",
        "        torch.save(model.state_dict(), 'saved_weights.pt')\r\n",
        "    \r\n",
        "    print(f'Epoch : {epoch}\\n\\tTrain Loss: {train_loss:.3f} | Train Acc: {train_acc*100:.2f}%')\r\n",
        "    print(f'\\t Val. Loss: {valid_loss:.3f} |  Val. Acc: {valid_acc*100:.2f}% \\n')"
      ],
      "execution_count": 171,
      "outputs": [
        {
          "output_type": "stream",
          "text": [
            "Epoch : 0\n",
            "\tTrain Loss: 0.939 | Train Acc: 60.91%\n",
            "\t Val. Loss: 0.879 |  Val. Acc: 66.75% \n",
            "\n",
            "Epoch : 1\n",
            "\tTrain Loss: 0.831 | Train Acc: 71.94%\n",
            "\t Val. Loss: 0.855 |  Val. Acc: 69.35% \n",
            "\n",
            "Epoch : 2\n",
            "\tTrain Loss: 0.785 | Train Acc: 76.59%\n",
            "\t Val. Loss: 0.827 |  Val. Acc: 72.16% \n",
            "\n",
            "Epoch : 3\n",
            "\tTrain Loss: 0.760 | Train Acc: 79.15%\n",
            "\t Val. Loss: 0.831 |  Val. Acc: 71.51% \n",
            "\n",
            "Epoch : 4\n",
            "\tTrain Loss: 0.735 | Train Acc: 81.79%\n",
            "\t Val. Loss: 0.817 |  Val. Acc: 73.28% \n",
            "\n",
            "Epoch : 5\n",
            "\tTrain Loss: 0.712 | Train Acc: 83.92%\n",
            "\t Val. Loss: 0.816 |  Val. Acc: 73.05% \n",
            "\n",
            "Epoch : 6\n",
            "\tTrain Loss: 0.692 | Train Acc: 86.10%\n",
            "\t Val. Loss: 0.813 |  Val. Acc: 73.57% \n",
            "\n",
            "Epoch : 7\n",
            "\tTrain Loss: 0.682 | Train Acc: 87.09%\n",
            "\t Val. Loss: 0.817 |  Val. Acc: 72.53% \n",
            "\n",
            "Epoch : 8\n",
            "\tTrain Loss: 0.669 | Train Acc: 88.45%\n",
            "\t Val. Loss: 0.809 |  Val. Acc: 73.70% \n",
            "\n",
            "Epoch : 9\n",
            "\tTrain Loss: 0.669 | Train Acc: 88.32%\n",
            "\t Val. Loss: 0.812 |  Val. Acc: 73.28% \n",
            "\n",
            "Epoch : 10\n",
            "\tTrain Loss: 0.659 | Train Acc: 89.34%\n",
            "\t Val. Loss: 0.814 |  Val. Acc: 73.11% \n",
            "\n",
            "Epoch : 11\n",
            "\tTrain Loss: 0.655 | Train Acc: 89.61%\n",
            "\t Val. Loss: 0.804 |  Val. Acc: 74.48% \n",
            "\n",
            "Epoch : 12\n",
            "\tTrain Loss: 0.650 | Train Acc: 90.19%\n",
            "\t Val. Loss: 0.803 |  Val. Acc: 74.35% \n",
            "\n",
            "Epoch : 13\n",
            "\tTrain Loss: 0.647 | Train Acc: 90.48%\n",
            "\t Val. Loss: 0.803 |  Val. Acc: 74.52% \n",
            "\n",
            "Epoch : 14\n",
            "\tTrain Loss: 0.641 | Train Acc: 91.08%\n",
            "\t Val. Loss: 0.805 |  Val. Acc: 73.18% \n",
            "\n",
            "Epoch : 15\n",
            "\tTrain Loss: 0.638 | Train Acc: 91.17%\n",
            "\t Val. Loss: 0.803 |  Val. Acc: 74.06% \n",
            "\n",
            "Epoch : 16\n",
            "\tTrain Loss: 0.637 | Train Acc: 91.37%\n",
            "\t Val. Loss: 0.814 |  Val. Acc: 72.96% \n",
            "\n",
            "Epoch : 17\n",
            "\tTrain Loss: 0.632 | Train Acc: 92.00%\n",
            "\t Val. Loss: 0.806 |  Val. Acc: 73.80% \n",
            "\n",
            "Epoch : 18\n",
            "\tTrain Loss: 0.633 | Train Acc: 91.73%\n",
            "\t Val. Loss: 0.800 |  Val. Acc: 74.19% \n",
            "\n",
            "Epoch : 19\n",
            "\tTrain Loss: 0.633 | Train Acc: 91.86%\n",
            "\t Val. Loss: 0.809 |  Val. Acc: 73.87% \n",
            "\n",
            "Epoch : 20\n",
            "\tTrain Loss: 0.631 | Train Acc: 92.07%\n",
            "\t Val. Loss: 0.810 |  Val. Acc: 72.89% \n",
            "\n",
            "Epoch : 21\n",
            "\tTrain Loss: 0.632 | Train Acc: 91.92%\n",
            "\t Val. Loss: 0.808 |  Val. Acc: 73.54% \n",
            "\n",
            "Epoch : 22\n",
            "\tTrain Loss: 0.626 | Train Acc: 92.48%\n",
            "\t Val. Loss: 0.806 |  Val. Acc: 73.05% \n",
            "\n",
            "Epoch : 23\n",
            "\tTrain Loss: 0.625 | Train Acc: 92.65%\n",
            "\t Val. Loss: 0.820 |  Val. Acc: 72.59% \n",
            "\n",
            "Epoch : 24\n",
            "\tTrain Loss: 0.628 | Train Acc: 92.26%\n",
            "\t Val. Loss: 0.809 |  Val. Acc: 73.02% \n",
            "\n",
            "Epoch : 25\n",
            "\tTrain Loss: 0.627 | Train Acc: 92.33%\n",
            "\t Val. Loss: 0.801 |  Val. Acc: 74.84% \n",
            "\n",
            "Epoch : 26\n",
            "\tTrain Loss: 0.626 | Train Acc: 92.65%\n",
            "\t Val. Loss: 0.792 |  Val. Acc: 75.36% \n",
            "\n",
            "Epoch : 27\n",
            "\tTrain Loss: 0.623 | Train Acc: 92.76%\n",
            "\t Val. Loss: 0.804 |  Val. Acc: 74.06% \n",
            "\n",
            "Epoch : 28\n",
            "\tTrain Loss: 0.624 | Train Acc: 92.72%\n",
            "\t Val. Loss: 0.802 |  Val. Acc: 74.80% \n",
            "\n",
            "Epoch : 29\n",
            "\tTrain Loss: 0.625 | Train Acc: 92.73%\n",
            "\t Val. Loss: 0.790 |  Val. Acc: 76.05% \n",
            "\n",
            "Epoch : 30\n",
            "\tTrain Loss: 0.623 | Train Acc: 92.85%\n",
            "\t Val. Loss: 0.792 |  Val. Acc: 75.49% \n",
            "\n",
            "Epoch : 31\n",
            "\tTrain Loss: 0.620 | Train Acc: 93.12%\n",
            "\t Val. Loss: 0.794 |  Val. Acc: 75.06% \n",
            "\n",
            "Epoch : 32\n",
            "\tTrain Loss: 0.623 | Train Acc: 92.80%\n",
            "\t Val. Loss: 0.793 |  Val. Acc: 75.10% \n",
            "\n",
            "Epoch : 33\n",
            "\tTrain Loss: 0.621 | Train Acc: 93.01%\n",
            "\t Val. Loss: 0.796 |  Val. Acc: 75.19% \n",
            "\n",
            "Epoch : 34\n",
            "\tTrain Loss: 0.620 | Train Acc: 93.17%\n",
            "\t Val. Loss: 0.814 |  Val. Acc: 72.76% \n",
            "\n",
            "Epoch : 35\n",
            "\tTrain Loss: 0.619 | Train Acc: 93.28%\n",
            "\t Val. Loss: 0.810 |  Val. Acc: 72.98% \n",
            "\n",
            "Epoch : 36\n",
            "\tTrain Loss: 0.620 | Train Acc: 93.00%\n",
            "\t Val. Loss: 0.813 |  Val. Acc: 72.85% \n",
            "\n",
            "Epoch : 37\n",
            "\tTrain Loss: 0.619 | Train Acc: 93.21%\n",
            "\t Val. Loss: 0.814 |  Val. Acc: 72.91% \n",
            "\n",
            "Epoch : 38\n",
            "\tTrain Loss: 0.618 | Train Acc: 93.47%\n",
            "\t Val. Loss: 0.834 |  Val. Acc: 71.42% \n",
            "\n",
            "Epoch : 39\n",
            "\tTrain Loss: 0.622 | Train Acc: 92.87%\n",
            "\t Val. Loss: 0.806 |  Val. Acc: 74.15% \n",
            "\n",
            "Epoch : 40\n",
            "\tTrain Loss: 0.622 | Train Acc: 93.06%\n",
            "\t Val. Loss: 0.813 |  Val. Acc: 73.07% \n",
            "\n",
            "Epoch : 41\n",
            "\tTrain Loss: 0.620 | Train Acc: 93.11%\n",
            "\t Val. Loss: 0.816 |  Val. Acc: 72.59% \n",
            "\n",
            "Epoch : 42\n",
            "\tTrain Loss: 0.617 | Train Acc: 93.30%\n",
            "\t Val. Loss: 0.810 |  Val. Acc: 73.67% \n",
            "\n",
            "Epoch : 43\n",
            "\tTrain Loss: 0.618 | Train Acc: 93.23%\n",
            "\t Val. Loss: 0.808 |  Val. Acc: 74.32% \n",
            "\n",
            "Epoch : 44\n",
            "\tTrain Loss: 0.618 | Train Acc: 93.40%\n",
            "\t Val. Loss: 0.805 |  Val. Acc: 74.41% \n",
            "\n",
            "Epoch : 45\n",
            "\tTrain Loss: 0.621 | Train Acc: 92.96%\n",
            "\t Val. Loss: 0.801 |  Val. Acc: 74.67% \n",
            "\n",
            "Epoch : 46\n",
            "\tTrain Loss: 0.617 | Train Acc: 93.45%\n",
            "\t Val. Loss: 0.818 |  Val. Acc: 72.33% \n",
            "\n",
            "Epoch : 47\n",
            "\tTrain Loss: 0.617 | Train Acc: 93.39%\n",
            "\t Val. Loss: 0.805 |  Val. Acc: 73.89% \n",
            "\n",
            "Epoch : 48\n",
            "\tTrain Loss: 0.617 | Train Acc: 93.45%\n",
            "\t Val. Loss: 0.805 |  Val. Acc: 73.59% \n",
            "\n",
            "Epoch : 49\n",
            "\tTrain Loss: 0.617 | Train Acc: 93.34%\n",
            "\t Val. Loss: 0.807 |  Val. Acc: 74.15% \n",
            "\n",
            "Epoch : 50\n",
            "\tTrain Loss: 0.618 | Train Acc: 93.19%\n",
            "\t Val. Loss: 0.800 |  Val. Acc: 74.84% \n",
            "\n",
            "Epoch : 51\n",
            "\tTrain Loss: 0.613 | Train Acc: 93.77%\n",
            "\t Val. Loss: 0.805 |  Val. Acc: 74.48% \n",
            "\n",
            "Epoch : 52\n",
            "\tTrain Loss: 0.614 | Train Acc: 93.68%\n",
            "\t Val. Loss: 0.799 |  Val. Acc: 74.58% \n",
            "\n",
            "Epoch : 53\n",
            "\tTrain Loss: 0.612 | Train Acc: 93.92%\n",
            "\t Val. Loss: 0.805 |  Val. Acc: 74.35% \n",
            "\n",
            "Epoch : 54\n",
            "\tTrain Loss: 0.614 | Train Acc: 93.69%\n",
            "\t Val. Loss: 0.792 |  Val. Acc: 75.27% \n",
            "\n",
            "Epoch : 55\n",
            "\tTrain Loss: 0.614 | Train Acc: 93.80%\n",
            "\t Val. Loss: 0.792 |  Val. Acc: 75.53% \n",
            "\n",
            "Epoch : 56\n",
            "\tTrain Loss: 0.610 | Train Acc: 94.09%\n",
            "\t Val. Loss: 0.791 |  Val. Acc: 75.27% \n",
            "\n",
            "Epoch : 57\n",
            "\tTrain Loss: 0.614 | Train Acc: 93.64%\n",
            "\t Val. Loss: 0.793 |  Val. Acc: 75.01% \n",
            "\n",
            "Epoch : 58\n",
            "\tTrain Loss: 0.613 | Train Acc: 93.90%\n",
            "\t Val. Loss: 0.792 |  Val. Acc: 75.36% \n",
            "\n",
            "Epoch : 59\n",
            "\tTrain Loss: 0.612 | Train Acc: 93.86%\n",
            "\t Val. Loss: 0.793 |  Val. Acc: 75.62% \n",
            "\n",
            "Epoch : 60\n",
            "\tTrain Loss: 0.611 | Train Acc: 93.97%\n",
            "\t Val. Loss: 0.802 |  Val. Acc: 74.45% \n",
            "\n",
            "Epoch : 61\n",
            "\tTrain Loss: 0.611 | Train Acc: 93.97%\n",
            "\t Val. Loss: 0.798 |  Val. Acc: 74.58% \n",
            "\n",
            "Epoch : 62\n",
            "\tTrain Loss: 0.608 | Train Acc: 94.24%\n",
            "\t Val. Loss: 0.806 |  Val. Acc: 74.28% \n",
            "\n",
            "Epoch : 63\n",
            "\tTrain Loss: 0.609 | Train Acc: 94.26%\n",
            "\t Val. Loss: 0.809 |  Val. Acc: 74.19% \n",
            "\n",
            "Epoch : 64\n",
            "\tTrain Loss: 0.612 | Train Acc: 93.88%\n",
            "\t Val. Loss: 0.799 |  Val. Acc: 74.97% \n",
            "\n",
            "Epoch : 65\n",
            "\tTrain Loss: 0.610 | Train Acc: 94.13%\n",
            "\t Val. Loss: 0.809 |  Val. Acc: 73.15% \n",
            "\n",
            "Epoch : 66\n",
            "\tTrain Loss: 0.613 | Train Acc: 93.78%\n",
            "\t Val. Loss: 0.806 |  Val. Acc: 73.93% \n",
            "\n",
            "Epoch : 67\n",
            "\tTrain Loss: 0.609 | Train Acc: 94.11%\n",
            "\t Val. Loss: 0.797 |  Val. Acc: 74.91% \n",
            "\n",
            "Epoch : 68\n",
            "\tTrain Loss: 0.611 | Train Acc: 94.15%\n",
            "\t Val. Loss: 0.813 |  Val. Acc: 72.92% \n",
            "\n",
            "Epoch : 69\n",
            "\tTrain Loss: 0.610 | Train Acc: 94.09%\n",
            "\t Val. Loss: 0.802 |  Val. Acc: 74.45% \n",
            "\n",
            "Epoch : 70\n",
            "\tTrain Loss: 0.610 | Train Acc: 94.29%\n",
            "\t Val. Loss: 0.820 |  Val. Acc: 72.29% \n",
            "\n",
            "Epoch : 71\n",
            "\tTrain Loss: 0.609 | Train Acc: 94.22%\n",
            "\t Val. Loss: 0.810 |  Val. Acc: 73.28% \n",
            "\n",
            "Epoch : 72\n",
            "\tTrain Loss: 0.609 | Train Acc: 94.22%\n",
            "\t Val. Loss: 0.803 |  Val. Acc: 74.06% \n",
            "\n",
            "Epoch : 73\n",
            "\tTrain Loss: 0.615 | Train Acc: 93.58%\n",
            "\t Val. Loss: 0.809 |  Val. Acc: 73.54% \n",
            "\n",
            "Epoch : 74\n",
            "\tTrain Loss: 0.610 | Train Acc: 94.12%\n",
            "\t Val. Loss: 0.820 |  Val. Acc: 72.70% \n",
            "\n",
            "Epoch : 75\n",
            "\tTrain Loss: 0.609 | Train Acc: 94.23%\n",
            "\t Val. Loss: 0.795 |  Val. Acc: 75.53% \n",
            "\n",
            "Epoch : 76\n",
            "\tTrain Loss: 0.609 | Train Acc: 94.31%\n",
            "\t Val. Loss: 0.803 |  Val. Acc: 74.45% \n",
            "\n",
            "Epoch : 77\n",
            "\tTrain Loss: 0.608 | Train Acc: 94.42%\n",
            "\t Val. Loss: 0.803 |  Val. Acc: 73.80% \n",
            "\n",
            "Epoch : 78\n",
            "\tTrain Loss: 0.608 | Train Acc: 94.32%\n",
            "\t Val. Loss: 0.800 |  Val. Acc: 74.61% \n",
            "\n",
            "Epoch : 79\n",
            "\tTrain Loss: 0.608 | Train Acc: 94.33%\n",
            "\t Val. Loss: 0.805 |  Val. Acc: 74.48% \n",
            "\n",
            "Epoch : 80\n",
            "\tTrain Loss: 0.610 | Train Acc: 94.03%\n",
            "\t Val. Loss: 0.796 |  Val. Acc: 75.19% \n",
            "\n",
            "Epoch : 81\n",
            "\tTrain Loss: 0.608 | Train Acc: 94.31%\n",
            "\t Val. Loss: 0.803 |  Val. Acc: 74.45% \n",
            "\n",
            "Epoch : 82\n",
            "\tTrain Loss: 0.607 | Train Acc: 94.40%\n",
            "\t Val. Loss: 0.804 |  Val. Acc: 74.06% \n",
            "\n",
            "Epoch : 83\n",
            "\tTrain Loss: 0.606 | Train Acc: 94.59%\n",
            "\t Val. Loss: 0.801 |  Val. Acc: 74.71% \n",
            "\n",
            "Epoch : 84\n",
            "\tTrain Loss: 0.607 | Train Acc: 94.39%\n",
            "\t Val. Loss: 0.809 |  Val. Acc: 73.24% \n",
            "\n",
            "Epoch : 85\n",
            "\tTrain Loss: 0.607 | Train Acc: 94.35%\n",
            "\t Val. Loss: 0.804 |  Val. Acc: 74.32% \n",
            "\n",
            "Epoch : 86\n",
            "\tTrain Loss: 0.605 | Train Acc: 94.59%\n",
            "\t Val. Loss: 0.812 |  Val. Acc: 73.02% \n",
            "\n",
            "Epoch : 87\n",
            "\tTrain Loss: 0.605 | Train Acc: 94.63%\n",
            "\t Val. Loss: 0.803 |  Val. Acc: 74.35% \n",
            "\n",
            "Epoch : 88\n",
            "\tTrain Loss: 0.607 | Train Acc: 94.40%\n",
            "\t Val. Loss: 0.816 |  Val. Acc: 72.63% \n",
            "\n",
            "Epoch : 89\n",
            "\tTrain Loss: 0.606 | Train Acc: 94.52%\n",
            "\t Val. Loss: 0.812 |  Val. Acc: 73.57% \n",
            "\n",
            "Epoch : 90\n",
            "\tTrain Loss: 0.609 | Train Acc: 94.20%\n",
            "\t Val. Loss: 0.813 |  Val. Acc: 73.41% \n",
            "\n",
            "Epoch : 91\n",
            "\tTrain Loss: 0.607 | Train Acc: 94.45%\n",
            "\t Val. Loss: 0.815 |  Val. Acc: 72.89% \n",
            "\n",
            "Epoch : 92\n",
            "\tTrain Loss: 0.605 | Train Acc: 94.67%\n",
            "\t Val. Loss: 0.832 |  Val. Acc: 71.29% \n",
            "\n",
            "Epoch : 93\n",
            "\tTrain Loss: 0.605 | Train Acc: 94.57%\n",
            "\t Val. Loss: 0.817 |  Val. Acc: 73.02% \n",
            "\n",
            "Epoch : 94\n",
            "\tTrain Loss: 0.606 | Train Acc: 94.59%\n",
            "\t Val. Loss: 0.817 |  Val. Acc: 73.02% \n",
            "\n",
            "Epoch : 95\n",
            "\tTrain Loss: 0.607 | Train Acc: 94.31%\n",
            "\t Val. Loss: 0.829 |  Val. Acc: 71.55% \n",
            "\n",
            "Epoch : 96\n",
            "\tTrain Loss: 0.607 | Train Acc: 94.42%\n",
            "\t Val. Loss: 0.815 |  Val. Acc: 73.02% \n",
            "\n",
            "Epoch : 97\n",
            "\tTrain Loss: 0.605 | Train Acc: 94.63%\n",
            "\t Val. Loss: 0.834 |  Val. Acc: 71.10% \n",
            "\n",
            "Epoch : 98\n",
            "\tTrain Loss: 0.608 | Train Acc: 94.39%\n",
            "\t Val. Loss: 0.833 |  Val. Acc: 71.32% \n",
            "\n",
            "Epoch : 99\n",
            "\tTrain Loss: 0.608 | Train Acc: 94.42%\n",
            "\t Val. Loss: 0.819 |  Val. Acc: 72.40% \n",
            "\n"
          ],
          "name": "stdout"
        }
      ]
    },
    {
      "cell_type": "code",
      "metadata": {
        "colab": {
          "base_uri": "https://localhost:8080/"
        },
        "id": "WQ3fzeAzVWqG",
        "outputId": "59aade96-5520-474c-ea5d-7db968841c5a"
      },
      "source": [
        "max(aug_acc_values['train']), max(aug_acc_values['valid'])"
      ],
      "execution_count": 172,
      "outputs": [
        {
          "output_type": "execute_result",
          "data": {
            "text/plain": [
              "(0.9466691616766467, 0.7604687487085661)"
            ]
          },
          "metadata": {
            "tags": []
          },
          "execution_count": 172
        }
      ]
    },
    {
      "cell_type": "code",
      "metadata": {
        "colab": {
          "base_uri": "https://localhost:8080/"
        },
        "id": "IjIuad3WVWeI",
        "outputId": "4732f10f-3584-4dcb-e1ce-d1ede86a96cd"
      },
      "source": [
        "#Saving the augmented accuracy,loss and non_augmented accuracy loss into a json file\r\n",
        "btexperiment = {'NoAugacc' : acc_values,\r\n",
        "                'NoAugloss' : loss_values,\r\n",
        "                'Augacc' : aug_acc_values,\r\n",
        "                'Augloss' : aug_loss_values}\r\n",
        "\r\n",
        "import json\r\n",
        "\r\n",
        "with open('proposedalgo.json', 'w') as f:\r\n",
        "  json.dump(btexperiment, f, indent=2)\r\n",
        "\r\n",
        "print('json file created successfully with accuracy and loss values.')"
      ],
      "execution_count": 173,
      "outputs": [
        {
          "output_type": "stream",
          "text": [
            "json file created successfully with accuracy and loss values.\n"
          ],
          "name": "stdout"
        }
      ]
    },
    {
      "cell_type": "code",
      "metadata": {
        "colab": {
          "base_uri": "https://localhost:8080/",
          "height": 299
        },
        "id": "kfvwWJc-VWUH",
        "outputId": "ccbf63f7-6fa9-4037-de45-636854032d2a"
      },
      "source": [
        "plt.style.use(\"ggplot\")\r\n",
        "epochs = range(1, 101)\r\n",
        "\r\n",
        "plt.plot(epochs, acc_values['train'], 'g', label='Train NoAug')\r\n",
        "plt.plot(epochs, acc_values['valid'], 'g', label='valid NoAug')\r\n",
        "plt.plot(epochs, aug_acc_values['train'], 'b', label='Train Aug')\r\n",
        "plt.plot(epochs, aug_acc_values['valid'], 'b', label='valid Aug')\r\n",
        "\r\n",
        "\r\n",
        "plt.title('Training and Validation Accuracy')\r\n",
        "plt.xlabel('Epochs')\r\n",
        "plt.ylabel('Accuracy')\r\n",
        "plt.legend()\r\n",
        "\r\n",
        "plt.savefig(\"accuracyproposed.jpg\")\r\n",
        "plt.show()"
      ],
      "execution_count": 174,
      "outputs": [
        {
          "output_type": "display_data",
          "data": {
            "image/png": "[encoded data removed]",
            "text/plain": [
              "<Figure size 432x288 with 1 Axes>"
            ]
          },
          "metadata": {
            "tags": []
          }
        }
      ]
    },
    {
      "cell_type": "code",
      "metadata": {
        "colab": {
          "base_uri": "https://localhost:8080/",
          "height": 299
        },
        "id": "oBXCOY0NWBLN",
        "outputId": "cc55d0d5-fefc-4c6f-e3dc-873cd8d51bae"
      },
      "source": [
        "plt.style.use(\"ggplot\")\r\n",
        "epochs = range(1, 101)\r\n",
        "plt.plot(epochs, loss_values['train'], 'g', label='Training - NoAug')\r\n",
        "plt.plot(epochs, loss_values['valid'], 'g', label='validation - NoAug')\r\n",
        "plt.plot(epochs, aug_loss_values['train'], 'b', label='Training - Aug')\r\n",
        "plt.plot(epochs, aug_loss_values['valid'], 'b', label='validation - Aug')\r\n",
        "plt.title('Training and Validation Loss')\r\n",
        "plt.xlabel('Epochs')\r\n",
        "plt.ylabel('Loss')\r\n",
        "plt.legend()\r\n",
        "plt.savefig('lossproposed.jpg')\r\n",
        "plt.show()\r\n"
      ],
      "execution_count": 158,
      "outputs": [
        {
          "output_type": "display_data",
          "data": {
            "image/png": "[encoded data removed]",
            "text/plain": [
              "<Figure size 432x288 with 1 Axes>"
            ]
          },
          "metadata": {
            "tags": []
          }
        }
      ]
    },
    {
      "cell_type": "code",
      "metadata": {
        "id": "hALGE8GEW9Iy"
      },
      "source": [
        ""
      ],
      "execution_count": 58,
      "outputs": []
    }
  ]
}