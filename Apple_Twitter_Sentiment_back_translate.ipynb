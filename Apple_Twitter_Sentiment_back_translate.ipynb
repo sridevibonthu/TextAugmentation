{
  "nbformat": 4,
  "nbformat_minor": 0,
  "metadata": {
    "colab": {
      "name": "Apple Twitter Sentiment back translate.ipynb",
      "provenance": []
    },
    "kernelspec": {
      "name": "python3",
      "display_name": "Python 3"
    },
    "accelerator": "GPU"
  },
  "cells": [
    {
      "cell_type": "code",
      "metadata": {
        "id": "z73x38xegyQz"
      },
      "source": [
        "import matplotlib.pyplot as plt\r\n",
        "import re"
      ],
      "execution_count": 4,
      "outputs": []
    },
    {
      "cell_type": "markdown",
      "metadata": {
        "id": "z21ruYWulODV"
      },
      "source": [
        "#### Loading the original csv file"
      ]
    },
    {
      "cell_type": "code",
      "metadata": {
        "colab": {
          "base_uri": "https://localhost:8080/",
          "height": 202
        },
        "id": "0KOD7SW9dR3j",
        "outputId": "2237ea62-a3d3-4531-f999-a29c3e7e4a61"
      },
      "source": [
        "import pandas as pd\r\n",
        "df = pd.read_csv('apple_twitter_sentiment_dfe.csv')\r\n",
        "df = df[['text', 'sentiment']]\r\n",
        "df.head()"
      ],
      "execution_count": 8,
      "outputs": [
        {
          "output_type": "execute_result",
          "data": {
            "text/html": [
              "<div>\n",
              "<style scoped>\n",
              "    .dataframe tbody tr th:only-of-type {\n",
              "        vertical-align: middle;\n",
              "    }\n",
              "\n",
              "    .dataframe tbody tr th {\n",
              "        vertical-align: top;\n",
              "    }\n",
              "\n",
              "    .dataframe thead th {\n",
              "        text-align: right;\n",
              "    }\n",
              "</style>\n",
              "<table border=\"1\" class=\"dataframe\">\n",
              "  <thead>\n",
              "    <tr style=\"text-align: right;\">\n",
              "      <th></th>\n",
              "      <th>text</th>\n",
              "      <th>sentiment</th>\n",
              "    </tr>\n",
              "  </thead>\n",
              "  <tbody>\n",
              "    <tr>\n",
              "      <th>0</th>\n",
              "      <td>#AAPL:The 10 best Steve Jobs emails ever...htt...</td>\n",
              "      <td>3</td>\n",
              "    </tr>\n",
              "    <tr>\n",
              "      <th>1</th>\n",
              "      <td>RT @JPDesloges: Why AAPL Stock Had a Mini-Flas...</td>\n",
              "      <td>3</td>\n",
              "    </tr>\n",
              "    <tr>\n",
              "      <th>2</th>\n",
              "      <td>My cat only chews @apple cords. Such an #Apple...</td>\n",
              "      <td>3</td>\n",
              "    </tr>\n",
              "    <tr>\n",
              "      <th>3</th>\n",
              "      <td>I agree with @jimcramer that the #IndividualIn...</td>\n",
              "      <td>3</td>\n",
              "    </tr>\n",
              "    <tr>\n",
              "      <th>4</th>\n",
              "      <td>Nobody expects the Spanish Inquisition #AAPL</td>\n",
              "      <td>3</td>\n",
              "    </tr>\n",
              "  </tbody>\n",
              "</table>\n",
              "</div>"
            ],
            "text/plain": [
              "                                                text sentiment\n",
              "0  #AAPL:The 10 best Steve Jobs emails ever...htt...         3\n",
              "1  RT @JPDesloges: Why AAPL Stock Had a Mini-Flas...         3\n",
              "2  My cat only chews @apple cords. Such an #Apple...         3\n",
              "3  I agree with @jimcramer that the #IndividualIn...         3\n",
              "4       Nobody expects the Spanish Inquisition #AAPL         3"
            ]
          },
          "metadata": {
            "tags": []
          },
          "execution_count": 8
        }
      ]
    },
    {
      "cell_type": "code",
      "metadata": {
        "colab": {
          "base_uri": "https://localhost:8080/"
        },
        "id": "NqbJsDJ7fwcP",
        "outputId": "9395c671-de12-49de-94ff-de3b11691f91"
      },
      "source": [
        "df.shape"
      ],
      "execution_count": 9,
      "outputs": [
        {
          "output_type": "execute_result",
          "data": {
            "text/plain": [
              "(3886, 2)"
            ]
          },
          "metadata": {
            "tags": []
          },
          "execution_count": 9
        }
      ]
    },
    {
      "cell_type": "code",
      "metadata": {
        "colab": {
          "base_uri": "https://localhost:8080/"
        },
        "id": "ZafAMeI9fymB",
        "outputId": "ce525232-bf71-43c0-ad90-d85ab8f62b00"
      },
      "source": [
        "df.sentiment.value_counts()"
      ],
      "execution_count": 10,
      "outputs": [
        {
          "output_type": "execute_result",
          "data": {
            "text/plain": [
              "3               2162\n",
              "1               1219\n",
              "5                423\n",
              "not_relevant      82\n",
              "Name: sentiment, dtype: int64"
            ]
          },
          "metadata": {
            "tags": []
          },
          "execution_count": 10
        }
      ]
    },
    {
      "cell_type": "code",
      "metadata": {
        "colab": {
          "base_uri": "https://localhost:8080/",
          "height": 202
        },
        "id": "1fY9ewVcfych",
        "outputId": "cca2a025-63ed-471e-d326-e36b72198351"
      },
      "source": [
        "filtered_df = df[df['sentiment'] != 'not_relevant']\r\n",
        "filtered_df.head()"
      ],
      "execution_count": 11,
      "outputs": [
        {
          "output_type": "execute_result",
          "data": {
            "text/html": [
              "<div>\n",
              "<style scoped>\n",
              "    .dataframe tbody tr th:only-of-type {\n",
              "        vertical-align: middle;\n",
              "    }\n",
              "\n",
              "    .dataframe tbody tr th {\n",
              "        vertical-align: top;\n",
              "    }\n",
              "\n",
              "    .dataframe thead th {\n",
              "        text-align: right;\n",
              "    }\n",
              "</style>\n",
              "<table border=\"1\" class=\"dataframe\">\n",
              "  <thead>\n",
              "    <tr style=\"text-align: right;\">\n",
              "      <th></th>\n",
              "      <th>text</th>\n",
              "      <th>sentiment</th>\n",
              "    </tr>\n",
              "  </thead>\n",
              "  <tbody>\n",
              "    <tr>\n",
              "      <th>0</th>\n",
              "      <td>#AAPL:The 10 best Steve Jobs emails ever...htt...</td>\n",
              "      <td>3</td>\n",
              "    </tr>\n",
              "    <tr>\n",
              "      <th>1</th>\n",
              "      <td>RT @JPDesloges: Why AAPL Stock Had a Mini-Flas...</td>\n",
              "      <td>3</td>\n",
              "    </tr>\n",
              "    <tr>\n",
              "      <th>2</th>\n",
              "      <td>My cat only chews @apple cords. Such an #Apple...</td>\n",
              "      <td>3</td>\n",
              "    </tr>\n",
              "    <tr>\n",
              "      <th>3</th>\n",
              "      <td>I agree with @jimcramer that the #IndividualIn...</td>\n",
              "      <td>3</td>\n",
              "    </tr>\n",
              "    <tr>\n",
              "      <th>4</th>\n",
              "      <td>Nobody expects the Spanish Inquisition #AAPL</td>\n",
              "      <td>3</td>\n",
              "    </tr>\n",
              "  </tbody>\n",
              "</table>\n",
              "</div>"
            ],
            "text/plain": [
              "                                                text sentiment\n",
              "0  #AAPL:The 10 best Steve Jobs emails ever...htt...         3\n",
              "1  RT @JPDesloges: Why AAPL Stock Had a Mini-Flas...         3\n",
              "2  My cat only chews @apple cords. Such an #Apple...         3\n",
              "3  I agree with @jimcramer that the #IndividualIn...         3\n",
              "4       Nobody expects the Spanish Inquisition #AAPL         3"
            ]
          },
          "metadata": {
            "tags": []
          },
          "execution_count": 11
        }
      ]
    },
    {
      "cell_type": "code",
      "metadata": {
        "colab": {
          "base_uri": "https://localhost:8080/"
        },
        "id": "6CzH-vhLf1qZ",
        "outputId": "9d55e578-b60e-41b0-ca8c-38e2f57f4a93"
      },
      "source": [
        "filtered_df.sentiment.value_counts()"
      ],
      "execution_count": 12,
      "outputs": [
        {
          "output_type": "execute_result",
          "data": {
            "text/plain": [
              "3    2162\n",
              "1    1219\n",
              "5     423\n",
              "Name: sentiment, dtype: int64"
            ]
          },
          "metadata": {
            "tags": []
          },
          "execution_count": 12
        }
      ]
    },
    {
      "cell_type": "code",
      "metadata": {
        "colab": {
          "base_uri": "https://localhost:8080/",
          "height": 292
        },
        "id": "z6cDm30Gf3OR",
        "outputId": "a16b8d1b-a085-4141-d2fc-705ce967eaaa"
      },
      "source": [
        "plt.title('Apple Twitter Sentiment Data')\r\n",
        "plt.xlabel('Sentiment')\r\n",
        "plt.ylabel('Counts')\r\n",
        "filtered_df['sentiment'].value_counts().plot(kind='bar')\r\n",
        "plt.show()"
      ],
      "execution_count": 13,
      "outputs": [
        {
          "output_type": "display_data",
          "data": {
            "image/png": "[encoded data removed]",
            "text/plain": [
              "<Figure size 432x288 with 1 Axes>"
            ]
          },
          "metadata": {
            "tags": [],
            "needs_background": "light"
          }
        }
      ]
    },
    {
      "cell_type": "markdown",
      "metadata": {
        "id": "W9Uq6SsalY9P"
      },
      "source": [
        "##### preprocessing\r\n",
        "removes @mentions, hashtag #, remove RT, removes hyperlinks"
      ]
    },
    {
      "cell_type": "code",
      "metadata": {
        "colab": {
          "base_uri": "https://localhost:8080/"
        },
        "id": "2Ikd2QDqnSTy",
        "outputId": "e3c9da7c-6bf7-4214-ace0-4653f4f37765"
      },
      "source": [
        "# Clean the tweets\r\n",
        "def cleanText(text):\r\n",
        "  text = re.sub(r'@[A-Za-z0-9]+', '', text)\r\n",
        "  text = re.sub(r'#', '', text)\r\n",
        "  text = re.sub(r'RT[\\s]+', '', text)\r\n",
        "  text = re.sub(r'https?:\\/\\/\\S+', '', text)\r\n",
        "  return text\r\n",
        "\r\n",
        "filtered_df['text'] = filtered_df['text'].apply(cleanText)\r\n",
        "\r\n"
      ],
      "execution_count": 14,
      "outputs": [
        {
          "output_type": "stream",
          "text": [
            "/usr/local/lib/python3.6/dist-packages/ipykernel_launcher.py:9: SettingWithCopyWarning: \n",
            "A value is trying to be set on a copy of a slice from a DataFrame.\n",
            "Try using .loc[row_indexer,col_indexer] = value instead\n",
            "\n",
            "See the caveats in the documentation: https://pandas.pydata.org/pandas-docs/stable/user_guide/indexing.html#returning-a-view-versus-a-copy\n",
            "  if __name__ == '__main__':\n"
          ],
          "name": "stderr"
        }
      ]
    },
    {
      "cell_type": "code",
      "metadata": {
        "colab": {
          "base_uri": "https://localhost:8080/",
          "height": 202
        },
        "id": "5vy74RCxoU5n",
        "outputId": "2376eeb7-6a3c-4961-c0af-9b11d5dfa244"
      },
      "source": [
        "filtered_df.head()"
      ],
      "execution_count": 15,
      "outputs": [
        {
          "output_type": "execute_result",
          "data": {
            "text/html": [
              "<div>\n",
              "<style scoped>\n",
              "    .dataframe tbody tr th:only-of-type {\n",
              "        vertical-align: middle;\n",
              "    }\n",
              "\n",
              "    .dataframe tbody tr th {\n",
              "        vertical-align: top;\n",
              "    }\n",
              "\n",
              "    .dataframe thead th {\n",
              "        text-align: right;\n",
              "    }\n",
              "</style>\n",
              "<table border=\"1\" class=\"dataframe\">\n",
              "  <thead>\n",
              "    <tr style=\"text-align: right;\">\n",
              "      <th></th>\n",
              "      <th>text</th>\n",
              "      <th>sentiment</th>\n",
              "    </tr>\n",
              "  </thead>\n",
              "  <tbody>\n",
              "    <tr>\n",
              "      <th>0</th>\n",
              "      <td>AAPL:The 10 best Steve Jobs emails ever...</td>\n",
              "      <td>3</td>\n",
              "    </tr>\n",
              "    <tr>\n",
              "      <th>1</th>\n",
              "      <td>: Why AAPL Stock Had a Mini-Flash Crash Today ...</td>\n",
              "      <td>3</td>\n",
              "    </tr>\n",
              "    <tr>\n",
              "      <th>2</th>\n",
              "      <td>My cat only chews  cords. Such an AppleSnob.</td>\n",
              "      <td>3</td>\n",
              "    </tr>\n",
              "    <tr>\n",
              "      <th>3</th>\n",
              "      <td>I agree with  that the IndividualInvestor shou...</td>\n",
              "      <td>3</td>\n",
              "    </tr>\n",
              "    <tr>\n",
              "      <th>4</th>\n",
              "      <td>Nobody expects the Spanish Inquisition AAPL</td>\n",
              "      <td>3</td>\n",
              "    </tr>\n",
              "  </tbody>\n",
              "</table>\n",
              "</div>"
            ],
            "text/plain": [
              "                                                text sentiment\n",
              "0         AAPL:The 10 best Steve Jobs emails ever...         3\n",
              "1  : Why AAPL Stock Had a Mini-Flash Crash Today ...         3\n",
              "2       My cat only chews  cords. Such an AppleSnob.         3\n",
              "3  I agree with  that the IndividualInvestor shou...         3\n",
              "4        Nobody expects the Spanish Inquisition AAPL         3"
            ]
          },
          "metadata": {
            "tags": []
          },
          "execution_count": 15
        }
      ]
    },
    {
      "cell_type": "markdown",
      "metadata": {
        "id": "ShV427I0_qaq"
      },
      "source": [
        "##### increasing training data with backtranslate"
      ]
    },
    {
      "cell_type": "code",
      "metadata": {
        "colab": {
          "base_uri": "https://localhost:8080/"
        },
        "id": "hr8_P_iJAGAZ",
        "outputId": "58d65b4b-155f-4d98-b79d-f7789f8bc2d6"
      },
      "source": [
        "!pip install google_trans_new"
      ],
      "execution_count": 16,
      "outputs": [
        {
          "output_type": "stream",
          "text": [
            "Collecting google_trans_new\n",
            "  Downloading https://files.pythonhosted.org/packages/f9/7b/9f136106dc5824dc98185c97991d3cd9b53e70a197154dd49f7b899128f6/google_trans_new-1.1.9-py3-none-any.whl\n",
            "Installing collected packages: google-trans-new\n",
            "Successfully installed google-trans-new-1.1.9\n"
          ],
          "name": "stdout"
        }
      ]
    },
    {
      "cell_type": "code",
      "metadata": {
        "colab": {
          "base_uri": "https://localhost:8080/"
        },
        "id": "7plvXhB1hLpQ",
        "outputId": "e81268a8-0d72-4556-f346-be9db9ebae45"
      },
      "source": [
        "# Import Library\r\n",
        "import random\r\n",
        "import torch, torchtext\r\n",
        "from torchtext import data \r\n",
        "\r\n",
        "# Manual Seed\r\n",
        "SEED = 43\r\n",
        "torch.manual_seed(SEED)"
      ],
      "execution_count": 17,
      "outputs": [
        {
          "output_type": "execute_result",
          "data": {
            "text/plain": [
              "<torch._C.Generator at 0x7fa41743f240>"
            ]
          },
          "metadata": {
            "tags": []
          },
          "execution_count": 17
        }
      ]
    },
    {
      "cell_type": "markdown",
      "metadata": {
        "id": "NlyYPpMtluPl"
      },
      "source": [
        "#### Plan\r\n",
        "* Divide the preprocessed text train and test\r\n",
        "* train on this\r\n",
        "* Augment traindata and train on this\r\n",
        "* Compare the augmentation"
      ]
    },
    {
      "cell_type": "code",
      "metadata": {
        "id": "xIyqnZ5IALuq"
      },
      "source": [
        "\r\n",
        "from sklearn.model_selection import train_test_split\r\n",
        "\r\n",
        "traindf, testdf = train_test_split(filtered_df, test_size=0.2, random_state=SEED)"
      ],
      "execution_count": 18,
      "outputs": []
    },
    {
      "cell_type": "code",
      "metadata": {
        "id": "AlPl6EeX_-il"
      },
      "source": [
        "import random\r\n",
        "import google_trans_new\r\n",
        "\r\n",
        "from google_trans_new import google_translator\r\n",
        "\r\n",
        "translator = google_translator()\r\n"
      ],
      "execution_count": 19,
      "outputs": []
    },
    {
      "cell_type": "code",
      "metadata": {
        "id": "78ajd31ZADaf"
      },
      "source": [
        "def googletranslate(text):\r\n",
        "  tempfr = translator.translate(text, lang_tgt='de')\r\n",
        "  return translator.translate(tempfr, lang_src='de', lang_tgt='en')"
      ],
      "execution_count": 20,
      "outputs": []
    },
    {
      "cell_type": "markdown",
      "metadata": {
        "id": "NqRMH-qGuup4"
      },
      "source": [
        "augmenting 60% of the training by using backtranslate"
      ]
    },
    {
      "cell_type": "code",
      "metadata": {
        "colab": {
          "base_uri": "https://localhost:8080/"
        },
        "id": "Qr63OPz9UpVU",
        "outputId": "108256a6-3ac8-40ce-9a0b-d0bc858e2838"
      },
      "source": [
        "tempdf = traindf.copy()\r\n",
        "#apply augmentation on fractin of the dataset\r\n",
        "tempdf = tempdf.sample(frac = 0.6, random_state=SEED)\r\n",
        "tempdf['tweets'] = tempdf['text'].apply(googletranslate)\r\n",
        "augdf = pd.concat([traindf, tempdf], ignore_index=True)\r\n",
        "print(traindf.shape, augdf.shape, testdf.shape)"
      ],
      "execution_count": 21,
      "outputs": [
        {
          "output_type": "stream",
          "text": [
            "(3043, 2) (4869, 3) (761, 2)\n"
          ],
          "name": "stdout"
        }
      ]
    },
    {
      "cell_type": "code",
      "metadata": {
        "id": "TK9WlSnZhmGH"
      },
      "source": [
        "Tweet = data.Field(sequential = True, tokenize = 'spacy', batch_first =True, include_lengths=True)\r\n",
        "Label = data.LabelField(tokenize ='spacy', is_target=True, batch_first =True, sequential =False)"
      ],
      "execution_count": 22,
      "outputs": []
    },
    {
      "cell_type": "code",
      "metadata": {
        "id": "P3JzXnMshpPh"
      },
      "source": [
        "fields = [('tweets', Tweet),('labels',Label)]"
      ],
      "execution_count": 23,
      "outputs": []
    },
    {
      "cell_type": "markdown",
      "metadata": {
        "id": "SJTJ6B-1m0So"
      },
      "source": [
        "##### preparing datasets with traindata, augmented train data and test data."
      ]
    },
    {
      "cell_type": "code",
      "metadata": {
        "id": "d1avq6-ShrcJ"
      },
      "source": [
        "example = [data.Example.fromlist([augdf.text.iloc[i], augdf.sentiment.iloc[i]], fields) for i in range(augdf.shape[0])] \r\n",
        "AppleAugTrainDataset = data.Dataset(example, fields)"
      ],
      "execution_count": 24,
      "outputs": []
    },
    {
      "cell_type": "code",
      "metadata": {
        "id": "q_Ze3o5Ih3NO"
      },
      "source": [
        "example = [data.Example.fromlist([traindf.text.iloc[i], traindf.sentiment.iloc[i]], fields) for i in range(traindf.shape[0])] \r\n",
        "AppleTrainDataset = data.Dataset(example, fields)"
      ],
      "execution_count": 25,
      "outputs": []
    },
    {
      "cell_type": "code",
      "metadata": {
        "id": "tbjoRcN6VN9b"
      },
      "source": [
        "example = [data.Example.fromlist([testdf.text.iloc[i], testdf.sentiment.iloc[i]], fields) for i in range(testdf.shape[0])] \r\n",
        "AppleTestDataset = data.Dataset(example,fields)"
      ],
      "execution_count": 26,
      "outputs": []
    },
    {
      "cell_type": "code",
      "metadata": {
        "id": "iI-CfdXdm3we"
      },
      "source": [
        "(train, valid) = AppleTrainDataset, AppleTestDataset"
      ],
      "execution_count": 27,
      "outputs": []
    },
    {
      "cell_type": "code",
      "metadata": {
        "colab": {
          "base_uri": "https://localhost:8080/"
        },
        "id": "SLa8rQq-nCsd",
        "outputId": "e3f0ea69-6d82-43ac-8d78-0d7acc77232d"
      },
      "source": [
        "len(train), len(valid)"
      ],
      "execution_count": 28,
      "outputs": [
        {
          "output_type": "execute_result",
          "data": {
            "text/plain": [
              "(3043, 761)"
            ]
          },
          "metadata": {
            "tags": []
          },
          "execution_count": 28
        }
      ]
    },
    {
      "cell_type": "code",
      "metadata": {
        "colab": {
          "base_uri": "https://localhost:8080/"
        },
        "id": "o0hExoCEnFuq",
        "outputId": "9564592e-172e-49b5-fa17-9c0ffe2ffed6"
      },
      "source": [
        "vars(train.examples[10])"
      ],
      "execution_count": 29,
      "outputs": [
        {
          "output_type": "execute_result",
          "data": {
            "text/plain": [
              "{'labels': '1',\n",
              " 'tweets': ['Hey',\n",
              "  '  ',\n",
              "  'I',\n",
              "  \"'m\",\n",
              "  'not',\n",
              "  'a',\n",
              "  'fan',\n",
              "  'of',\n",
              "  'your',\n",
              "  'latest',\n",
              "  'commercial',\n",
              "  '!',\n",
              "  '!']}"
            ]
          },
          "metadata": {
            "tags": []
          },
          "execution_count": 29
        }
      ]
    },
    {
      "cell_type": "code",
      "metadata": {
        "id": "Sdlb33SLnIxF"
      },
      "source": [
        "Tweet.build_vocab(train)\r\n",
        "Label.build_vocab(train)"
      ],
      "execution_count": 30,
      "outputs": []
    },
    {
      "cell_type": "code",
      "metadata": {
        "colab": {
          "base_uri": "https://localhost:8080/"
        },
        "id": "mIAJdUNt2lhf",
        "outputId": "33024784-1f40-4cb3-cc7a-33d06503464e"
      },
      "source": [
        "print('Size of input vocab : ', len(Tweet.vocab))\r\n",
        "print('Size of label vocab : ', len(Label.vocab))\r\n",
        "print('Top 10 words appreared repeatedly :', list(Tweet.vocab.freqs.most_common(10)))\r\n",
        "print('Labels : ', Label.vocab.stoi)"
      ],
      "execution_count": 31,
      "outputs": [
        {
          "output_type": "stream",
          "text": [
            "Size of input vocab :  6796\n",
            "Size of label vocab :  3\n",
            "Top 10 words appreared repeatedly : [(' ', 2714), ('.', 1667), ('!', 1433), ('the', 1160), (',', 1104), (':', 1079), ('to', 779), ('Apple', 695), ('AAPL', 653), ('  ', 625)]\n",
            "Labels :  defaultdict(<function _default_unk_index at 0x7fa3af326840>, {'3': 0, '1': 1, '5': 2})\n"
          ],
          "name": "stdout"
        }
      ]
    },
    {
      "cell_type": "code",
      "metadata": {
        "colab": {
          "base_uri": "https://localhost:8080/"
        },
        "id": "cQb64vUr2nuE",
        "outputId": "37f1b62d-c412-4cda-de63-8591faee31c9"
      },
      "source": [
        "device = torch.device(\"cuda\" if torch.cuda.is_available() else \"cpu\")\r\n",
        "device"
      ],
      "execution_count": 32,
      "outputs": [
        {
          "output_type": "execute_result",
          "data": {
            "text/plain": [
              "device(type='cuda')"
            ]
          },
          "metadata": {
            "tags": []
          },
          "execution_count": 32
        }
      ]
    },
    {
      "cell_type": "code",
      "metadata": {
        "id": "QG1KuzRa2wHz"
      },
      "source": [
        "train_iterator, valid_iterator = data.BucketIterator.splits((train, valid), batch_size = 32, \r\n",
        "                                                            sort_key = lambda x: len(x.tweets),\r\n",
        "                                                            sort_within_batch=True, device = device)"
      ],
      "execution_count": 33,
      "outputs": []
    },
    {
      "cell_type": "code",
      "metadata": {
        "id": "4AKOGe8A290U"
      },
      "source": [
        "import os, pickle\r\n",
        "with open('tokenizer.pkl', 'wb') as tokens: \r\n",
        "    pickle.dump(Tweet.vocab.stoi, tokens)"
      ],
      "execution_count": 34,
      "outputs": []
    },
    {
      "cell_type": "code",
      "metadata": {
        "id": "MUxv9hWL29qa"
      },
      "source": [
        "import torch.nn as nn\r\n",
        "import torch.nn.functional as F\r\n",
        "\r\n",
        "class classifier(nn.Module):\r\n",
        "    \r\n",
        "    # Define all the layers used in model\r\n",
        "    def __init__(self, vocab_size, embedding_dim, hidden_dim, output_dim, n_layers, dropout):\r\n",
        "        \r\n",
        "        super().__init__()          \r\n",
        "        \r\n",
        "        # Embedding layer\r\n",
        "        self.embedding = nn.Embedding(vocab_size, embedding_dim)\r\n",
        "        \r\n",
        "        # LSTM layer\r\n",
        "        self.encoder = nn.LSTM(embedding_dim, \r\n",
        "                           hidden_dim, \r\n",
        "                           num_layers=n_layers, \r\n",
        "                           dropout=dropout,\r\n",
        "                           batch_first=True)\r\n",
        "        # try using nn.GRU or nn.RNN here and compare their performances\r\n",
        "        # try bidirectional and compare their performances\r\n",
        "        \r\n",
        "        # Dense layer\r\n",
        "        self.fc = nn.Linear(hidden_dim, output_dim)\r\n",
        "        \r\n",
        "    def forward(self, text, text_lengths):\r\n",
        "        \r\n",
        "        # text = [batch size, sent_length]\r\n",
        "        embedded = self.embedding(text)\r\n",
        "        # embedded = [batch size, sent_len, emb dim]\r\n",
        "      \r\n",
        "        # packed sequence\r\n",
        "        packed_embedded = nn.utils.rnn.pack_padded_sequence(embedded, text_lengths.cpu(), batch_first=True)\r\n",
        "        \r\n",
        "        packed_output, (hidden, cell) = self.encoder(packed_embedded)\r\n",
        "        #hidden = [batch size, num layers * num directions,hid dim]\r\n",
        "        #cell = [batch size, num layers * num directions,hid dim]\r\n",
        "    \r\n",
        "        # Hidden = [batch size, hid dim * num directions]\r\n",
        "        dense_outputs = self.fc(hidden)   \r\n",
        "        \r\n",
        "        # Final activation function softmax\r\n",
        "        output = F.softmax(dense_outputs[0], dim=1)\r\n",
        "            \r\n",
        "        return output"
      ],
      "execution_count": 35,
      "outputs": []
    },
    {
      "cell_type": "code",
      "metadata": {
        "id": "IAB9inua29fv"
      },
      "source": [
        "# Define hyperparameters\r\n",
        "size_of_vocab = len(Tweet.vocab)\r\n",
        "embedding_dim = 300\r\n",
        "num_hidden_nodes = 100\r\n",
        "num_output_nodes = 3\r\n",
        "num_layers = 2\r\n",
        "dropout = 0.3\r\n",
        "\r\n",
        "# Instantiate the model\r\n",
        "model = classifier(size_of_vocab, embedding_dim, num_hidden_nodes, num_output_nodes, num_layers, dropout = dropout)"
      ],
      "execution_count": 36,
      "outputs": []
    },
    {
      "cell_type": "code",
      "metadata": {
        "colab": {
          "base_uri": "https://localhost:8080/"
        },
        "id": "tVjDRikx3HJr",
        "outputId": "1668edd3-4a6f-4f67-a669-8f4878c3826e"
      },
      "source": [
        "print(model)\r\n",
        "\r\n",
        "#No. of trianable parameters\r\n",
        "def count_parameters(model):\r\n",
        "    return sum(p.numel() for p in model.parameters() if p.requires_grad)\r\n",
        "    \r\n",
        "print(f'The model has {count_parameters(model):,} trainable parameters')"
      ],
      "execution_count": 37,
      "outputs": [
        {
          "output_type": "stream",
          "text": [
            "classifier(\n",
            "  (embedding): Embedding(6796, 300)\n",
            "  (encoder): LSTM(300, 100, num_layers=2, batch_first=True, dropout=0.3)\n",
            "  (fc): Linear(in_features=100, out_features=3, bias=True)\n",
            ")\n",
            "The model has 2,280,703 trainable parameters\n"
          ],
          "name": "stdout"
        }
      ]
    },
    {
      "cell_type": "code",
      "metadata": {
        "id": "88OxwkHO3Jfi"
      },
      "source": [
        "import torch.optim as optim\r\n",
        "\r\n",
        "# define optimizer and loss\r\n",
        "optimizer = optim.Adam(model.parameters(), lr=0.001)\r\n",
        "criterion = nn.CrossEntropyLoss()\r\n",
        "\r\n",
        "# define metric\r\n",
        "def binary_accuracy(preds, y):\r\n",
        "    #round predictions to the closest integer\r\n",
        "    _, predictions = torch.max(preds, 1)\r\n",
        "    \r\n",
        "    correct = (predictions == y).float() \r\n",
        "    acc = correct.sum() / len(correct)\r\n",
        "    return acc\r\n",
        "    \r\n",
        "# push to cuda if available\r\n",
        "model = model.to(device)\r\n",
        "criterion = criterion.to(device)"
      ],
      "execution_count": 38,
      "outputs": []
    },
    {
      "cell_type": "code",
      "metadata": {
        "id": "6RQo6D6y3Q5n"
      },
      "source": [
        "def train(model, iterator, optimizer, criterion):\r\n",
        "    \r\n",
        "    # initialize every epoch \r\n",
        "    epoch_loss = 0\r\n",
        "    epoch_acc = 0\r\n",
        "    \r\n",
        "    # set the model in training phase\r\n",
        "    model.train()  \r\n",
        "    \r\n",
        "    for batch in iterator:\r\n",
        "        \r\n",
        "        # resets the gradients after every batch\r\n",
        "        optimizer.zero_grad()   \r\n",
        "        \r\n",
        "        # retrieve text and no. of words\r\n",
        "        tweet, tweet_lengths = batch.tweets   \r\n",
        "        \r\n",
        "        # convert to 1D tensor\r\n",
        "        predictions = model(tweet, tweet_lengths).squeeze()  \r\n",
        "        \r\n",
        "        # compute the loss\r\n",
        "        loss = criterion(predictions, batch.labels)        \r\n",
        "        \r\n",
        "        # compute the binary accuracy\r\n",
        "        acc = binary_accuracy(predictions, batch.labels)   \r\n",
        "        \r\n",
        "        # backpropage the loss and compute the gradients\r\n",
        "        loss.backward()       \r\n",
        "        \r\n",
        "        # update the weights\r\n",
        "        optimizer.step()      \r\n",
        "        \r\n",
        "        # loss and accuracy\r\n",
        "        epoch_loss += loss.item()  \r\n",
        "        epoch_acc += acc.item()    \r\n",
        "        \r\n",
        "    return epoch_loss / len(iterator), epoch_acc / len(iterator)"
      ],
      "execution_count": 39,
      "outputs": []
    },
    {
      "cell_type": "code",
      "metadata": {
        "id": "BewvKyF53U2T"
      },
      "source": [
        "def evaluate(model, iterator, criterion):\r\n",
        "    \r\n",
        "    # initialize every epoch\r\n",
        "    epoch_loss = 0\r\n",
        "    epoch_acc = 0\r\n",
        "\r\n",
        "    # deactivating dropout layers\r\n",
        "    model.eval()\r\n",
        "    \r\n",
        "    # deactivates autograd\r\n",
        "    with torch.no_grad():\r\n",
        "    \r\n",
        "        for batch in iterator:\r\n",
        "        \r\n",
        "            # retrieve text and no. of words\r\n",
        "            tweet, tweet_lengths = batch.tweets\r\n",
        "            \r\n",
        "            # convert to 1d tensor\r\n",
        "            predictions = model(tweet, tweet_lengths).squeeze()\r\n",
        "            \r\n",
        "            # compute loss and accuracy\r\n",
        "            loss = criterion(predictions, batch.labels)\r\n",
        "            acc = binary_accuracy(predictions, batch.labels)\r\n",
        "            \r\n",
        "            # keep track of loss and accuracy\r\n",
        "            epoch_loss += loss.item()\r\n",
        "            epoch_acc += acc.item()\r\n",
        "        \r\n",
        "    return epoch_loss / len(iterator), epoch_acc / len(iterator)"
      ],
      "execution_count": 40,
      "outputs": []
    },
    {
      "cell_type": "code",
      "metadata": {
        "colab": {
          "base_uri": "https://localhost:8080/"
        },
        "id": "sN-o14iD3Wpo",
        "outputId": "26f21fac-22aa-4aff-a26b-854196477ac3"
      },
      "source": [
        "N_EPOCHS = 100\r\n",
        "best_valid_loss = float('inf')\r\n",
        "acc_values = {'train' : [], 'valid' : []}\r\n",
        "loss_values = {'train' : [], 'valid' : []}\r\n",
        "\r\n",
        "for epoch in range(N_EPOCHS):\r\n",
        "     \r\n",
        "    # train the model\r\n",
        "    train_loss, train_acc = train(model, train_iterator, optimizer, criterion)\r\n",
        "    \r\n",
        "    # evaluate the model\r\n",
        "    valid_loss, valid_acc = evaluate(model, valid_iterator, criterion)\r\n",
        "\r\n",
        "    acc_values['train'].append(train_acc)\r\n",
        "    acc_values['valid'].append(valid_acc)\r\n",
        "    loss_values['train'].append(train_loss)\r\n",
        "    loss_values['valid'].append(valid_loss)\r\n",
        "    \r\n",
        "    # save the best model\r\n",
        "    if valid_loss < best_valid_loss:\r\n",
        "        best_valid_loss = valid_loss\r\n",
        "        torch.save(model.state_dict(), 'saved_weights.pt')\r\n",
        "    \r\n",
        "    print(f'Epoch : {epoch}\\n\\tTrain Loss: {train_loss:.3f} | Train Acc: {train_acc*100:.2f}%')\r\n",
        "    print(f'\\t Val. Loss: {valid_loss:.3f} |  Val. Acc: {valid_acc*100:.2f}% \\n')"
      ],
      "execution_count": 41,
      "outputs": [
        {
          "output_type": "stream",
          "text": [
            "Epoch : 0\n",
            "\tTrain Loss: 0.950 | Train Acc: 60.82%\n",
            "\t Val. Loss: 0.872 |  Val. Acc: 68.44% \n",
            "\n",
            "Epoch : 1\n",
            "\tTrain Loss: 0.826 | Train Acc: 72.72%\n",
            "\t Val. Loss: 0.843 |  Val. Acc: 70.60% \n",
            "\n",
            "Epoch : 2\n",
            "\tTrain Loss: 0.767 | Train Acc: 78.61%\n",
            "\t Val. Loss: 0.843 |  Val. Acc: 71.03% \n",
            "\n",
            "Epoch : 3\n",
            "\tTrain Loss: 0.732 | Train Acc: 82.03%\n",
            "\t Val. Loss: 0.838 |  Val. Acc: 70.15% \n",
            "\n",
            "Epoch : 4\n",
            "\tTrain Loss: 0.709 | Train Acc: 85.06%\n",
            "\t Val. Loss: 0.837 |  Val. Acc: 69.50% \n",
            "\n",
            "Epoch : 5\n",
            "\tTrain Loss: 0.687 | Train Acc: 87.21%\n",
            "\t Val. Loss: 0.832 |  Val. Acc: 71.23% \n",
            "\n",
            "Epoch : 6\n",
            "\tTrain Loss: 0.674 | Train Acc: 88.22%\n",
            "\t Val. Loss: 0.840 |  Val. Acc: 70.24% \n",
            "\n",
            "Epoch : 7\n",
            "\tTrain Loss: 0.658 | Train Acc: 89.94%\n",
            "\t Val. Loss: 0.838 |  Val. Acc: 70.28% \n",
            "\n",
            "Epoch : 8\n",
            "\tTrain Loss: 0.646 | Train Acc: 90.69%\n",
            "\t Val. Loss: 0.843 |  Val. Acc: 69.24% \n",
            "\n",
            "Epoch : 9\n",
            "\tTrain Loss: 0.640 | Train Acc: 91.31%\n",
            "\t Val. Loss: 0.843 |  Val. Acc: 69.20% \n",
            "\n",
            "Epoch : 10\n",
            "\tTrain Loss: 0.636 | Train Acc: 91.60%\n",
            "\t Val. Loss: 0.847 |  Val. Acc: 68.94% \n",
            "\n",
            "Epoch : 11\n",
            "\tTrain Loss: 0.632 | Train Acc: 91.99%\n",
            "\t Val. Loss: 0.843 |  Val. Acc: 69.85% \n",
            "\n",
            "Epoch : 12\n",
            "\tTrain Loss: 0.631 | Train Acc: 92.19%\n",
            "\t Val. Loss: 0.836 |  Val. Acc: 70.34% \n",
            "\n",
            "Epoch : 13\n",
            "\tTrain Loss: 0.629 | Train Acc: 92.32%\n",
            "\t Val. Loss: 0.856 |  Val. Acc: 68.52% \n",
            "\n",
            "Epoch : 14\n",
            "\tTrain Loss: 0.628 | Train Acc: 92.35%\n",
            "\t Val. Loss: 0.861 |  Val. Acc: 68.42% \n",
            "\n",
            "Epoch : 15\n",
            "\tTrain Loss: 0.632 | Train Acc: 92.02%\n",
            "\t Val. Loss: 0.850 |  Val. Acc: 68.85% \n",
            "\n",
            "Epoch : 16\n",
            "\tTrain Loss: 0.632 | Train Acc: 92.12%\n",
            "\t Val. Loss: 0.842 |  Val. Acc: 69.85% \n",
            "\n",
            "Epoch : 17\n",
            "\tTrain Loss: 0.626 | Train Acc: 92.55%\n",
            "\t Val. Loss: 0.842 |  Val. Acc: 70.15% \n",
            "\n",
            "Epoch : 18\n",
            "\tTrain Loss: 0.623 | Train Acc: 92.84%\n",
            "\t Val. Loss: 0.857 |  Val. Acc: 67.47% \n",
            "\n",
            "Epoch : 19\n",
            "\tTrain Loss: 0.622 | Train Acc: 92.87%\n",
            "\t Val. Loss: 0.847 |  Val. Acc: 69.56% \n",
            "\n",
            "Epoch : 20\n",
            "\tTrain Loss: 0.620 | Train Acc: 93.10%\n",
            "\t Val. Loss: 0.847 |  Val. Acc: 69.33% \n",
            "\n",
            "Epoch : 21\n",
            "\tTrain Loss: 0.619 | Train Acc: 93.16%\n",
            "\t Val. Loss: 0.841 |  Val. Acc: 69.59% \n",
            "\n",
            "Epoch : 22\n",
            "\tTrain Loss: 0.618 | Train Acc: 93.26%\n",
            "\t Val. Loss: 0.849 |  Val. Acc: 69.07% \n",
            "\n",
            "Epoch : 23\n",
            "\tTrain Loss: 0.618 | Train Acc: 93.26%\n",
            "\t Val. Loss: 0.848 |  Val. Acc: 69.33% \n",
            "\n",
            "Epoch : 24\n",
            "\tTrain Loss: 0.618 | Train Acc: 93.29%\n",
            "\t Val. Loss: 0.849 |  Val. Acc: 69.33% \n",
            "\n",
            "Epoch : 25\n",
            "\tTrain Loss: 0.618 | Train Acc: 93.33%\n",
            "\t Val. Loss: 0.850 |  Val. Acc: 68.81% \n",
            "\n",
            "Epoch : 26\n",
            "\tTrain Loss: 0.617 | Train Acc: 93.39%\n",
            "\t Val. Loss: 0.850 |  Val. Acc: 69.07% \n",
            "\n",
            "Epoch : 27\n",
            "\tTrain Loss: 0.617 | Train Acc: 93.36%\n",
            "\t Val. Loss: 0.850 |  Val. Acc: 69.20% \n",
            "\n",
            "Epoch : 28\n",
            "\tTrain Loss: 0.617 | Train Acc: 93.39%\n",
            "\t Val. Loss: 0.854 |  Val. Acc: 68.55% \n",
            "\n",
            "Epoch : 29\n",
            "\tTrain Loss: 0.617 | Train Acc: 93.39%\n",
            "\t Val. Loss: 0.853 |  Val. Acc: 68.68% \n",
            "\n",
            "Epoch : 30\n",
            "\tTrain Loss: 0.617 | Train Acc: 93.39%\n",
            "\t Val. Loss: 0.853 |  Val. Acc: 68.68% \n",
            "\n",
            "Epoch : 31\n",
            "\tTrain Loss: 0.617 | Train Acc: 93.36%\n",
            "\t Val. Loss: 0.846 |  Val. Acc: 69.33% \n",
            "\n",
            "Epoch : 32\n",
            "\tTrain Loss: 0.617 | Train Acc: 93.33%\n",
            "\t Val. Loss: 0.851 |  Val. Acc: 68.68% \n",
            "\n",
            "Epoch : 33\n",
            "\tTrain Loss: 0.617 | Train Acc: 93.39%\n",
            "\t Val. Loss: 0.855 |  Val. Acc: 68.42% \n",
            "\n",
            "Epoch : 34\n",
            "\tTrain Loss: 0.617 | Train Acc: 93.36%\n",
            "\t Val. Loss: 0.856 |  Val. Acc: 68.29% \n",
            "\n",
            "Epoch : 35\n",
            "\tTrain Loss: 0.617 | Train Acc: 93.39%\n",
            "\t Val. Loss: 0.855 |  Val. Acc: 68.42% \n",
            "\n",
            "Epoch : 36\n",
            "\tTrain Loss: 0.617 | Train Acc: 93.36%\n",
            "\t Val. Loss: 0.862 |  Val. Acc: 67.90% \n",
            "\n",
            "Epoch : 37\n",
            "\tTrain Loss: 0.618 | Train Acc: 93.26%\n",
            "\t Val. Loss: 0.844 |  Val. Acc: 69.72% \n",
            "\n",
            "Epoch : 38\n",
            "\tTrain Loss: 0.617 | Train Acc: 93.42%\n",
            "\t Val. Loss: 0.850 |  Val. Acc: 68.29% \n",
            "\n",
            "Epoch : 39\n",
            "\tTrain Loss: 0.629 | Train Acc: 92.13%\n",
            "\t Val. Loss: 0.868 |  Val. Acc: 67.18% \n",
            "\n",
            "Epoch : 40\n",
            "\tTrain Loss: 0.625 | Train Acc: 92.61%\n",
            "\t Val. Loss: 0.856 |  Val. Acc: 69.04% \n",
            "\n",
            "Epoch : 41\n",
            "\tTrain Loss: 0.618 | Train Acc: 93.39%\n",
            "\t Val. Loss: 0.856 |  Val. Acc: 68.39% \n",
            "\n",
            "Epoch : 42\n",
            "\tTrain Loss: 0.616 | Train Acc: 93.55%\n",
            "\t Val. Loss: 0.870 |  Val. Acc: 67.31% \n",
            "\n",
            "Epoch : 43\n",
            "\tTrain Loss: 0.617 | Train Acc: 93.39%\n",
            "\t Val. Loss: 0.871 |  Val. Acc: 67.51% \n",
            "\n",
            "Epoch : 44\n",
            "\tTrain Loss: 0.614 | Train Acc: 93.68%\n",
            "\t Val. Loss: 0.857 |  Val. Acc: 68.26% \n",
            "\n",
            "Epoch : 45\n",
            "\tTrain Loss: 0.614 | Train Acc: 93.62%\n",
            "\t Val. Loss: 0.856 |  Val. Acc: 68.91% \n",
            "\n",
            "Epoch : 46\n",
            "\tTrain Loss: 0.614 | Train Acc: 93.75%\n",
            "\t Val. Loss: 0.850 |  Val. Acc: 69.30% \n",
            "\n",
            "Epoch : 47\n",
            "\tTrain Loss: 0.613 | Train Acc: 93.78%\n",
            "\t Val. Loss: 0.852 |  Val. Acc: 69.17% \n",
            "\n",
            "Epoch : 48\n",
            "\tTrain Loss: 0.613 | Train Acc: 93.75%\n",
            "\t Val. Loss: 0.852 |  Val. Acc: 69.30% \n",
            "\n",
            "Epoch : 49\n",
            "\tTrain Loss: 0.613 | Train Acc: 93.75%\n",
            "\t Val. Loss: 0.853 |  Val. Acc: 69.30% \n",
            "\n",
            "Epoch : 50\n",
            "\tTrain Loss: 0.613 | Train Acc: 93.78%\n",
            "\t Val. Loss: 0.853 |  Val. Acc: 69.30% \n",
            "\n",
            "Epoch : 51\n",
            "\tTrain Loss: 0.613 | Train Acc: 93.78%\n",
            "\t Val. Loss: 0.854 |  Val. Acc: 69.43% \n",
            "\n",
            "Epoch : 52\n",
            "\tTrain Loss: 0.613 | Train Acc: 93.75%\n",
            "\t Val. Loss: 0.859 |  Val. Acc: 68.52% \n",
            "\n",
            "Epoch : 53\n",
            "\tTrain Loss: 0.613 | Train Acc: 93.82%\n",
            "\t Val. Loss: 0.857 |  Val. Acc: 68.81% \n",
            "\n",
            "Epoch : 54\n",
            "\tTrain Loss: 0.614 | Train Acc: 93.72%\n",
            "\t Val. Loss: 0.857 |  Val. Acc: 69.04% \n",
            "\n",
            "Epoch : 55\n",
            "\tTrain Loss: 0.613 | Train Acc: 93.75%\n",
            "\t Val. Loss: 0.861 |  Val. Acc: 68.65% \n",
            "\n",
            "Epoch : 56\n",
            "\tTrain Loss: 0.613 | Train Acc: 93.68%\n",
            "\t Val. Loss: 0.862 |  Val. Acc: 68.91% \n",
            "\n",
            "Epoch : 57\n",
            "\tTrain Loss: 0.613 | Train Acc: 93.82%\n",
            "\t Val. Loss: 0.864 |  Val. Acc: 68.26% \n",
            "\n",
            "Epoch : 58\n",
            "\tTrain Loss: 0.613 | Train Acc: 93.75%\n",
            "\t Val. Loss: 0.864 |  Val. Acc: 68.39% \n",
            "\n",
            "Epoch : 59\n",
            "\tTrain Loss: 0.613 | Train Acc: 93.75%\n",
            "\t Val. Loss: 0.864 |  Val. Acc: 68.52% \n",
            "\n",
            "Epoch : 60\n",
            "\tTrain Loss: 0.613 | Train Acc: 93.78%\n",
            "\t Val. Loss: 0.868 |  Val. Acc: 67.34% \n",
            "\n",
            "Epoch : 61\n",
            "\tTrain Loss: 0.613 | Train Acc: 93.85%\n",
            "\t Val. Loss: 0.867 |  Val. Acc: 67.51% \n",
            "\n",
            "Epoch : 62\n",
            "\tTrain Loss: 0.612 | Train Acc: 93.82%\n",
            "\t Val. Loss: 0.864 |  Val. Acc: 67.86% \n",
            "\n",
            "Epoch : 63\n",
            "\tTrain Loss: 0.612 | Train Acc: 93.82%\n",
            "\t Val. Loss: 0.860 |  Val. Acc: 68.52% \n",
            "\n",
            "Epoch : 64\n",
            "\tTrain Loss: 0.612 | Train Acc: 93.88%\n",
            "\t Val. Loss: 0.863 |  Val. Acc: 68.03% \n",
            "\n",
            "Epoch : 65\n",
            "\tTrain Loss: 0.612 | Train Acc: 93.85%\n",
            "\t Val. Loss: 0.860 |  Val. Acc: 68.16% \n",
            "\n",
            "Epoch : 66\n",
            "\tTrain Loss: 0.612 | Train Acc: 93.85%\n",
            "\t Val. Loss: 0.864 |  Val. Acc: 68.03% \n",
            "\n",
            "Epoch : 67\n",
            "\tTrain Loss: 0.612 | Train Acc: 93.82%\n",
            "\t Val. Loss: 0.863 |  Val. Acc: 68.16% \n",
            "\n",
            "Epoch : 68\n",
            "\tTrain Loss: 0.612 | Train Acc: 93.85%\n",
            "\t Val. Loss: 0.851 |  Val. Acc: 69.20% \n",
            "\n",
            "Epoch : 69\n",
            "\tTrain Loss: 0.612 | Train Acc: 93.85%\n",
            "\t Val. Loss: 0.853 |  Val. Acc: 69.07% \n",
            "\n",
            "Epoch : 70\n",
            "\tTrain Loss: 0.612 | Train Acc: 93.91%\n",
            "\t Val. Loss: 0.852 |  Val. Acc: 69.59% \n",
            "\n",
            "Epoch : 71\n",
            "\tTrain Loss: 0.612 | Train Acc: 93.91%\n",
            "\t Val. Loss: 0.870 |  Val. Acc: 66.86% \n",
            "\n",
            "Epoch : 72\n",
            "\tTrain Loss: 0.612 | Train Acc: 93.95%\n",
            "\t Val. Loss: 0.867 |  Val. Acc: 67.25% \n",
            "\n",
            "Epoch : 73\n",
            "\tTrain Loss: 0.612 | Train Acc: 93.88%\n",
            "\t Val. Loss: 0.866 |  Val. Acc: 67.25% \n",
            "\n",
            "Epoch : 74\n",
            "\tTrain Loss: 0.612 | Train Acc: 93.88%\n",
            "\t Val. Loss: 0.867 |  Val. Acc: 67.12% \n",
            "\n",
            "Epoch : 75\n",
            "\tTrain Loss: 0.611 | Train Acc: 93.98%\n",
            "\t Val. Loss: 0.873 |  Val. Acc: 66.86% \n",
            "\n",
            "Epoch : 76\n",
            "\tTrain Loss: 0.612 | Train Acc: 93.85%\n",
            "\t Val. Loss: 0.854 |  Val. Acc: 68.94% \n",
            "\n",
            "Epoch : 77\n",
            "\tTrain Loss: 0.612 | Train Acc: 93.88%\n",
            "\t Val. Loss: 0.852 |  Val. Acc: 69.43% \n",
            "\n",
            "Epoch : 78\n",
            "\tTrain Loss: 0.612 | Train Acc: 93.85%\n",
            "\t Val. Loss: 0.869 |  Val. Acc: 67.77% \n",
            "\n",
            "Epoch : 79\n",
            "\tTrain Loss: 0.612 | Train Acc: 93.95%\n",
            "\t Val. Loss: 0.863 |  Val. Acc: 68.03% \n",
            "\n",
            "Epoch : 80\n",
            "\tTrain Loss: 0.612 | Train Acc: 93.91%\n",
            "\t Val. Loss: 0.865 |  Val. Acc: 68.03% \n",
            "\n",
            "Epoch : 81\n",
            "\tTrain Loss: 0.612 | Train Acc: 93.85%\n",
            "\t Val. Loss: 0.860 |  Val. Acc: 67.90% \n",
            "\n",
            "Epoch : 82\n",
            "\tTrain Loss: 0.611 | Train Acc: 93.95%\n",
            "\t Val. Loss: 0.861 |  Val. Acc: 68.03% \n",
            "\n",
            "Epoch : 83\n",
            "\tTrain Loss: 0.611 | Train Acc: 93.91%\n",
            "\t Val. Loss: 0.860 |  Val. Acc: 68.29% \n",
            "\n",
            "Epoch : 84\n",
            "\tTrain Loss: 0.611 | Train Acc: 93.95%\n",
            "\t Val. Loss: 0.860 |  Val. Acc: 68.29% \n",
            "\n",
            "Epoch : 85\n",
            "\tTrain Loss: 0.611 | Train Acc: 93.95%\n",
            "\t Val. Loss: 0.860 |  Val. Acc: 68.29% \n",
            "\n",
            "Epoch : 86\n",
            "\tTrain Loss: 0.611 | Train Acc: 93.98%\n",
            "\t Val. Loss: 0.862 |  Val. Acc: 67.90% \n",
            "\n",
            "Epoch : 87\n",
            "\tTrain Loss: 0.611 | Train Acc: 93.98%\n",
            "\t Val. Loss: 0.861 |  Val. Acc: 68.16% \n",
            "\n",
            "Epoch : 88\n",
            "\tTrain Loss: 0.611 | Train Acc: 93.91%\n",
            "\t Val. Loss: 0.858 |  Val. Acc: 68.55% \n",
            "\n",
            "Epoch : 89\n",
            "\tTrain Loss: 0.611 | Train Acc: 93.98%\n",
            "\t Val. Loss: 0.857 |  Val. Acc: 69.07% \n",
            "\n",
            "Epoch : 90\n",
            "\tTrain Loss: 0.611 | Train Acc: 93.91%\n",
            "\t Val. Loss: 0.861 |  Val. Acc: 68.42% \n",
            "\n",
            "Epoch : 91\n",
            "\tTrain Loss: 0.611 | Train Acc: 94.01%\n",
            "\t Val. Loss: 0.860 |  Val. Acc: 68.29% \n",
            "\n",
            "Epoch : 92\n",
            "\tTrain Loss: 0.611 | Train Acc: 94.01%\n",
            "\t Val. Loss: 0.861 |  Val. Acc: 68.29% \n",
            "\n",
            "Epoch : 93\n",
            "\tTrain Loss: 0.611 | Train Acc: 93.98%\n",
            "\t Val. Loss: 0.860 |  Val. Acc: 68.42% \n",
            "\n",
            "Epoch : 94\n",
            "\tTrain Loss: 0.611 | Train Acc: 94.01%\n",
            "\t Val. Loss: 0.866 |  Val. Acc: 67.77% \n",
            "\n",
            "Epoch : 95\n",
            "\tTrain Loss: 0.611 | Train Acc: 93.95%\n",
            "\t Val. Loss: 0.866 |  Val. Acc: 67.64% \n",
            "\n",
            "Epoch : 96\n",
            "\tTrain Loss: 0.611 | Train Acc: 94.01%\n",
            "\t Val. Loss: 0.865 |  Val. Acc: 67.51% \n",
            "\n",
            "Epoch : 97\n",
            "\tTrain Loss: 0.611 | Train Acc: 93.98%\n",
            "\t Val. Loss: 0.863 |  Val. Acc: 67.90% \n",
            "\n",
            "Epoch : 98\n",
            "\tTrain Loss: 0.611 | Train Acc: 93.98%\n",
            "\t Val. Loss: 0.866 |  Val. Acc: 67.68% \n",
            "\n",
            "Epoch : 99\n",
            "\tTrain Loss: 0.611 | Train Acc: 93.98%\n",
            "\t Val. Loss: 0.867 |  Val. Acc: 68.03% \n",
            "\n"
          ],
          "name": "stdout"
        }
      ]
    },
    {
      "cell_type": "code",
      "metadata": {
        "colab": {
          "base_uri": "https://localhost:8080/"
        },
        "id": "NlKx-5mL684u",
        "outputId": "bff1c422-b9dc-4b3c-cd42-86229ce13dd2"
      },
      "source": [
        "max(acc_values['train']), max(acc_values['valid'])"
      ],
      "execution_count": 42,
      "outputs": [
        {
          "output_type": "execute_result",
          "data": {
            "text/plain": [
              "(0.9401041666666666, 0.7122916653752327)"
            ]
          },
          "metadata": {
            "tags": []
          },
          "execution_count": 42
        }
      ]
    },
    {
      "cell_type": "code",
      "metadata": {
        "id": "AugIrPNGo0wt"
      },
      "source": [
        "(train, valid) = AppleAugTrainDataset, AppleTestDataset"
      ],
      "execution_count": 43,
      "outputs": []
    },
    {
      "cell_type": "code",
      "metadata": {
        "colab": {
          "base_uri": "https://localhost:8080/"
        },
        "id": "DeG235qWtMMf",
        "outputId": "71c6e6ef-74fb-4558-de5f-ff95bf0d3e06"
      },
      "source": [
        "len(train), len(valid)"
      ],
      "execution_count": 44,
      "outputs": [
        {
          "output_type": "execute_result",
          "data": {
            "text/plain": [
              "(4869, 761)"
            ]
          },
          "metadata": {
            "tags": []
          },
          "execution_count": 44
        }
      ]
    },
    {
      "cell_type": "code",
      "metadata": {
        "colab": {
          "base_uri": "https://localhost:8080/"
        },
        "id": "brL3d32ZtRgd",
        "outputId": "b410c95a-b458-4c15-ce4c-ce17c22595cf"
      },
      "source": [
        "Tweet.build_vocab(train)\r\n",
        "Label.build_vocab(train)\r\n",
        "print('Size of input vocab : ', len(Tweet.vocab))\r\n",
        "print('Size of label vocab : ', len(Label.vocab))\r\n",
        "print('Top 10 words appreared repeatedly :', list(Tweet.vocab.freqs.most_common(10)))\r\n",
        "print('Labels : ', Label.vocab.stoi)"
      ],
      "execution_count": 45,
      "outputs": [
        {
          "output_type": "stream",
          "text": [
            "Size of input vocab :  6796\n",
            "Size of label vocab :  3\n",
            "Top 10 words appreared repeatedly : [(' ', 4306), ('.', 2644), ('!', 2227), ('the', 1835), (',', 1746), (':', 1695), ('to', 1239), ('Apple', 1095), ('AAPL', 1023), ('  ', 979)]\n",
            "Labels :  defaultdict(<function _default_unk_index at 0x7fa3af326840>, {'3': 0, '1': 1, '5': 2})\n"
          ],
          "name": "stdout"
        }
      ]
    },
    {
      "cell_type": "code",
      "metadata": {
        "id": "9i5HcWhPtW9M"
      },
      "source": [
        "train_iterator, valid_iterator = data.BucketIterator.splits((train, valid), batch_size = 32, \r\n",
        "                                                            sort_key = lambda x: len(x.tweets),\r\n",
        "                                                            sort_within_batch=True, device = device)"
      ],
      "execution_count": 46,
      "outputs": []
    },
    {
      "cell_type": "code",
      "metadata": {
        "id": "eUWUS-5dtcqU"
      },
      "source": [
        "import torch.nn as nn\r\n",
        "import torch.nn.functional as F\r\n",
        "\r\n",
        "class classifier(nn.Module):\r\n",
        "    \r\n",
        "    # Define all the layers used in model\r\n",
        "    def __init__(self, vocab_size, embedding_dim, hidden_dim, output_dim, n_layers, dropout):\r\n",
        "        \r\n",
        "        super().__init__()          \r\n",
        "        \r\n",
        "        # Embedding layer\r\n",
        "        self.embedding = nn.Embedding(vocab_size, embedding_dim)\r\n",
        "        \r\n",
        "        # LSTM layer\r\n",
        "        self.encoder = nn.LSTM(embedding_dim, \r\n",
        "                           hidden_dim, \r\n",
        "                           num_layers=n_layers, \r\n",
        "                           dropout=dropout,\r\n",
        "                           batch_first=True)\r\n",
        "        # try using nn.GRU or nn.RNN here and compare their performances\r\n",
        "        # try bidirectional and compare their performances\r\n",
        "        \r\n",
        "        # Dense layer\r\n",
        "        self.fc = nn.Linear(hidden_dim, output_dim)\r\n",
        "        \r\n",
        "    def forward(self, text, text_lengths):\r\n",
        "        \r\n",
        "        # text = [batch size, sent_length]\r\n",
        "        embedded = self.embedding(text)\r\n",
        "        # embedded = [batch size, sent_len, emb dim]\r\n",
        "      \r\n",
        "        # packed sequence\r\n",
        "        packed_embedded = nn.utils.rnn.pack_padded_sequence(embedded, text_lengths.cpu(), batch_first=True)\r\n",
        "        \r\n",
        "        packed_output, (hidden, cell) = self.encoder(packed_embedded)\r\n",
        "        #hidden = [batch size, num layers * num directions,hid dim]\r\n",
        "        #cell = [batch size, num layers * num directions,hid dim]\r\n",
        "    \r\n",
        "        # Hidden = [batch size, hid dim * num directions]\r\n",
        "        dense_outputs = self.fc(hidden)   \r\n",
        "        \r\n",
        "        # Final activation function softmax\r\n",
        "        output = F.softmax(dense_outputs[0], dim=1)\r\n",
        "            \r\n",
        "        return output"
      ],
      "execution_count": 47,
      "outputs": []
    },
    {
      "cell_type": "code",
      "metadata": {
        "id": "7ury4F26tdcI"
      },
      "source": [
        "# Define hyperparameters\r\n",
        "size_of_vocab = len(Tweet.vocab)\r\n",
        "embedding_dim = 300\r\n",
        "num_hidden_nodes = 100\r\n",
        "num_output_nodes = 3\r\n",
        "num_layers = 2\r\n",
        "dropout = 0.3\r\n",
        "\r\n",
        "# Instantiate the model\r\n",
        "model = classifier(size_of_vocab, embedding_dim, num_hidden_nodes, num_output_nodes, num_layers, dropout = dropout)"
      ],
      "execution_count": 48,
      "outputs": []
    },
    {
      "cell_type": "code",
      "metadata": {
        "id": "GGAZo5xDtnzR"
      },
      "source": [
        "import torch.optim as optim\r\n",
        "\r\n",
        "# define optimizer and loss\r\n",
        "optimizer = optim.Adam(model.parameters(), lr=0.001)\r\n",
        "criterion = nn.CrossEntropyLoss()\r\n",
        "\r\n",
        "# define metric\r\n",
        "def binary_accuracy(preds, y):\r\n",
        "    #round predictions to the closest integer\r\n",
        "    _, predictions = torch.max(preds, 1)\r\n",
        "    \r\n",
        "    correct = (predictions == y).float() \r\n",
        "    acc = correct.sum() / len(correct)\r\n",
        "    return acc\r\n",
        "    \r\n",
        "# push to cuda if available\r\n",
        "model = model.to(device)\r\n",
        "criterion = criterion.to(device)"
      ],
      "execution_count": 49,
      "outputs": []
    },
    {
      "cell_type": "code",
      "metadata": {
        "id": "lgRFUMc6tqwJ"
      },
      "source": [
        "def train(model, iterator, optimizer, criterion):\r\n",
        "    \r\n",
        "    # initialize every epoch \r\n",
        "    epoch_loss = 0\r\n",
        "    epoch_acc = 0\r\n",
        "    \r\n",
        "    # set the model in training phase\r\n",
        "    model.train()  \r\n",
        "    \r\n",
        "    for batch in iterator:\r\n",
        "        \r\n",
        "        # resets the gradients after every batch\r\n",
        "        optimizer.zero_grad()   \r\n",
        "        \r\n",
        "        # retrieve text and no. of words\r\n",
        "        tweet, tweet_lengths = batch.tweets   \r\n",
        "        \r\n",
        "        # convert to 1D tensor\r\n",
        "        predictions = model(tweet, tweet_lengths).squeeze()  \r\n",
        "        \r\n",
        "        # compute the loss\r\n",
        "        loss = criterion(predictions, batch.labels)        \r\n",
        "        \r\n",
        "        # compute the binary accuracy\r\n",
        "        acc = binary_accuracy(predictions, batch.labels)   \r\n",
        "        \r\n",
        "        # backpropage the loss and compute the gradients\r\n",
        "        loss.backward()       \r\n",
        "        \r\n",
        "        # update the weights\r\n",
        "        optimizer.step()      \r\n",
        "        \r\n",
        "        # loss and accuracy\r\n",
        "        epoch_loss += loss.item()  \r\n",
        "        epoch_acc += acc.item()    \r\n",
        "        \r\n",
        "    return epoch_loss / len(iterator), epoch_acc / len(iterator)"
      ],
      "execution_count": 50,
      "outputs": []
    },
    {
      "cell_type": "code",
      "metadata": {
        "id": "16CouvSMtu_6"
      },
      "source": [
        "def evaluate(model, iterator, criterion):\r\n",
        "    \r\n",
        "    # initialize every epoch\r\n",
        "    epoch_loss = 0\r\n",
        "    epoch_acc = 0\r\n",
        "\r\n",
        "    # deactivating dropout layers\r\n",
        "    model.eval()\r\n",
        "    \r\n",
        "    # deactivates autograd\r\n",
        "    with torch.no_grad():\r\n",
        "    \r\n",
        "        for batch in iterator:\r\n",
        "        \r\n",
        "            # retrieve text and no. of words\r\n",
        "            tweet, tweet_lengths = batch.tweets\r\n",
        "            \r\n",
        "            # convert to 1d tensor\r\n",
        "            predictions = model(tweet, tweet_lengths).squeeze()\r\n",
        "            \r\n",
        "            # compute loss and accuracy\r\n",
        "            loss = criterion(predictions, batch.labels)\r\n",
        "            acc = binary_accuracy(predictions, batch.labels)\r\n",
        "            \r\n",
        "            # keep track of loss and accuracy\r\n",
        "            epoch_loss += loss.item()\r\n",
        "            epoch_acc += acc.item()\r\n",
        "        \r\n",
        "    return epoch_loss / len(iterator), epoch_acc / len(iterator)"
      ],
      "execution_count": 51,
      "outputs": []
    },
    {
      "cell_type": "code",
      "metadata": {
        "colab": {
          "base_uri": "https://localhost:8080/"
        },
        "id": "UxE972Jitx4b",
        "outputId": "fa76c948-15ce-4d28-a20c-043dc70743a0"
      },
      "source": [
        "N_EPOCHS = 100\r\n",
        "best_valid_loss = float('inf')\r\n",
        "aug_acc_values = {'train' : [], 'valid' : []}\r\n",
        "aug_loss_values = {'train' : [], 'valid' : []}\r\n",
        "\r\n",
        "for epoch in range(N_EPOCHS):\r\n",
        "     \r\n",
        "    # train the model\r\n",
        "    train_loss, train_acc = train(model, train_iterator, optimizer, criterion)\r\n",
        "    \r\n",
        "    # evaluate the model\r\n",
        "    valid_loss, valid_acc = evaluate(model, valid_iterator, criterion)\r\n",
        "\r\n",
        "    aug_acc_values['train'].append(train_acc)\r\n",
        "    aug_acc_values['valid'].append(valid_acc)\r\n",
        "    aug_loss_values['train'].append(train_loss)\r\n",
        "    aug_loss_values['valid'].append(valid_loss)\r\n",
        "    \r\n",
        "    # save the best model\r\n",
        "    if valid_loss < best_valid_loss:\r\n",
        "        best_valid_loss = valid_loss\r\n",
        "        torch.save(model.state_dict(), 'saved_weights.pt')\r\n",
        "    \r\n",
        "    print(f'Epoch : {epoch}\\n\\tTrain Loss: {train_loss:.3f} | Train Acc: {train_acc*100:.2f}%')\r\n",
        "    print(f'\\t Val. Loss: {valid_loss:.3f} |  Val. Acc: {valid_acc*100:.2f}% \\n')"
      ],
      "execution_count": 52,
      "outputs": [
        {
          "output_type": "stream",
          "text": [
            "Epoch : 0\n",
            "\tTrain Loss: 0.891 | Train Acc: 65.38%\n",
            "\t Val. Loss: 0.842 |  Val. Acc: 71.29% \n",
            "\n",
            "Epoch : 1\n",
            "\tTrain Loss: 0.763 | Train Acc: 78.81%\n",
            "\t Val. Loss: 0.820 |  Val. Acc: 72.63% \n",
            "\n",
            "Epoch : 2\n",
            "\tTrain Loss: 0.714 | Train Acc: 83.91%\n",
            "\t Val. Loss: 0.815 |  Val. Acc: 72.89% \n",
            "\n",
            "Epoch : 3\n",
            "\tTrain Loss: 0.674 | Train Acc: 88.17%\n",
            "\t Val. Loss: 0.812 |  Val. Acc: 73.70% \n",
            "\n",
            "Epoch : 4\n",
            "\tTrain Loss: 0.654 | Train Acc: 89.99%\n",
            "\t Val. Loss: 0.814 |  Val. Acc: 73.18% \n",
            "\n",
            "Epoch : 5\n",
            "\tTrain Loss: 0.641 | Train Acc: 91.22%\n",
            "\t Val. Loss: 0.826 |  Val. Acc: 72.63% \n",
            "\n",
            "Epoch : 6\n",
            "\tTrain Loss: 0.636 | Train Acc: 91.72%\n",
            "\t Val. Loss: 0.808 |  Val. Acc: 74.19% \n",
            "\n",
            "Epoch : 7\n",
            "\tTrain Loss: 0.629 | Train Acc: 92.22%\n",
            "\t Val. Loss: 0.820 |  Val. Acc: 72.03% \n",
            "\n",
            "Epoch : 8\n",
            "\tTrain Loss: 0.628 | Train Acc: 92.26%\n",
            "\t Val. Loss: 0.817 |  Val. Acc: 73.20% \n",
            "\n",
            "Epoch : 9\n",
            "\tTrain Loss: 0.623 | Train Acc: 92.95%\n",
            "\t Val. Loss: 0.821 |  Val. Acc: 72.81% \n",
            "\n",
            "Epoch : 10\n",
            "\tTrain Loss: 0.624 | Train Acc: 92.77%\n",
            "\t Val. Loss: 0.827 |  Val. Acc: 71.94% \n",
            "\n",
            "Epoch : 11\n",
            "\tTrain Loss: 0.623 | Train Acc: 92.85%\n",
            "\t Val. Loss: 0.823 |  Val. Acc: 72.36% \n",
            "\n",
            "Epoch : 12\n",
            "\tTrain Loss: 0.619 | Train Acc: 93.30%\n",
            "\t Val. Loss: 0.824 |  Val. Acc: 71.81% \n",
            "\n",
            "Epoch : 13\n",
            "\tTrain Loss: 0.616 | Train Acc: 93.59%\n",
            "\t Val. Loss: 0.821 |  Val. Acc: 72.53% \n",
            "\n",
            "Epoch : 14\n",
            "\tTrain Loss: 0.615 | Train Acc: 93.69%\n",
            "\t Val. Loss: 0.821 |  Val. Acc: 72.76% \n",
            "\n",
            "Epoch : 15\n",
            "\tTrain Loss: 0.614 | Train Acc: 93.69%\n",
            "\t Val. Loss: 0.819 |  Val. Acc: 72.92% \n",
            "\n",
            "Epoch : 16\n",
            "\tTrain Loss: 0.614 | Train Acc: 93.69%\n",
            "\t Val. Loss: 0.828 |  Val. Acc: 71.97% \n",
            "\n",
            "Epoch : 17\n",
            "\tTrain Loss: 0.613 | Train Acc: 93.79%\n",
            "\t Val. Loss: 0.822 |  Val. Acc: 72.10% \n",
            "\n",
            "Epoch : 18\n",
            "\tTrain Loss: 0.613 | Train Acc: 93.81%\n",
            "\t Val. Loss: 0.821 |  Val. Acc: 72.49% \n",
            "\n",
            "Epoch : 19\n",
            "\tTrain Loss: 0.612 | Train Acc: 93.89%\n",
            "\t Val. Loss: 0.821 |  Val. Acc: 72.36% \n",
            "\n",
            "Epoch : 20\n",
            "\tTrain Loss: 0.612 | Train Acc: 93.89%\n",
            "\t Val. Loss: 0.820 |  Val. Acc: 72.36% \n",
            "\n",
            "Epoch : 21\n",
            "\tTrain Loss: 0.612 | Train Acc: 93.89%\n",
            "\t Val. Loss: 0.820 |  Val. Acc: 72.14% \n",
            "\n",
            "Epoch : 22\n",
            "\tTrain Loss: 0.612 | Train Acc: 93.93%\n",
            "\t Val. Loss: 0.821 |  Val. Acc: 72.63% \n",
            "\n",
            "Epoch : 23\n",
            "\tTrain Loss: 0.612 | Train Acc: 93.89%\n",
            "\t Val. Loss: 0.831 |  Val. Acc: 71.29% \n",
            "\n",
            "Epoch : 24\n",
            "\tTrain Loss: 0.612 | Train Acc: 93.91%\n",
            "\t Val. Loss: 0.819 |  Val. Acc: 72.53% \n",
            "\n",
            "Epoch : 25\n",
            "\tTrain Loss: 0.611 | Train Acc: 94.00%\n",
            "\t Val. Loss: 0.821 |  Val. Acc: 72.27% \n",
            "\n",
            "Epoch : 26\n",
            "\tTrain Loss: 0.611 | Train Acc: 94.06%\n",
            "\t Val. Loss: 0.826 |  Val. Acc: 71.88% \n",
            "\n",
            "Epoch : 27\n",
            "\tTrain Loss: 0.615 | Train Acc: 93.79%\n",
            "\t Val. Loss: 0.838 |  Val. Acc: 70.71% \n",
            "\n",
            "Epoch : 28\n",
            "\tTrain Loss: 0.613 | Train Acc: 93.85%\n",
            "\t Val. Loss: 0.828 |  Val. Acc: 71.97% \n",
            "\n",
            "Epoch : 29\n",
            "\tTrain Loss: 0.611 | Train Acc: 94.04%\n",
            "\t Val. Loss: 0.820 |  Val. Acc: 73.35% \n",
            "\n",
            "Epoch : 30\n",
            "\tTrain Loss: 0.609 | Train Acc: 94.20%\n",
            "\t Val. Loss: 0.827 |  Val. Acc: 72.01% \n",
            "\n",
            "Epoch : 31\n",
            "\tTrain Loss: 0.609 | Train Acc: 94.26%\n",
            "\t Val. Loss: 0.831 |  Val. Acc: 71.19% \n",
            "\n",
            "Epoch : 32\n",
            "\tTrain Loss: 0.608 | Train Acc: 94.28%\n",
            "\t Val. Loss: 0.825 |  Val. Acc: 72.14% \n",
            "\n",
            "Epoch : 33\n",
            "\tTrain Loss: 0.608 | Train Acc: 94.34%\n",
            "\t Val. Loss: 0.824 |  Val. Acc: 72.53% \n",
            "\n",
            "Epoch : 34\n",
            "\tTrain Loss: 0.608 | Train Acc: 94.34%\n",
            "\t Val. Loss: 0.825 |  Val. Acc: 71.88% \n",
            "\n",
            "Epoch : 35\n",
            "\tTrain Loss: 0.608 | Train Acc: 94.36%\n",
            "\t Val. Loss: 0.830 |  Val. Acc: 71.49% \n",
            "\n",
            "Epoch : 36\n",
            "\tTrain Loss: 0.607 | Train Acc: 94.38%\n",
            "\t Val. Loss: 0.827 |  Val. Acc: 71.75% \n",
            "\n",
            "Epoch : 37\n",
            "\tTrain Loss: 0.611 | Train Acc: 94.04%\n",
            "\t Val. Loss: 0.824 |  Val. Acc: 71.97% \n",
            "\n",
            "Epoch : 38\n",
            "\tTrain Loss: 0.609 | Train Acc: 94.22%\n",
            "\t Val. Loss: 0.825 |  Val. Acc: 72.23% \n",
            "\n",
            "Epoch : 39\n",
            "\tTrain Loss: 0.609 | Train Acc: 94.30%\n",
            "\t Val. Loss: 0.825 |  Val. Acc: 72.31% \n",
            "\n",
            "Epoch : 40\n",
            "\tTrain Loss: 0.606 | Train Acc: 94.53%\n",
            "\t Val. Loss: 0.818 |  Val. Acc: 73.09% \n",
            "\n",
            "Epoch : 41\n",
            "\tTrain Loss: 0.606 | Train Acc: 94.51%\n",
            "\t Val. Loss: 0.820 |  Val. Acc: 72.34% \n",
            "\n",
            "Epoch : 42\n",
            "\tTrain Loss: 0.607 | Train Acc: 94.44%\n",
            "\t Val. Loss: 0.820 |  Val. Acc: 72.70% \n",
            "\n",
            "Epoch : 43\n",
            "\tTrain Loss: 0.606 | Train Acc: 94.53%\n",
            "\t Val. Loss: 0.819 |  Val. Acc: 72.57% \n",
            "\n",
            "Epoch : 44\n",
            "\tTrain Loss: 0.606 | Train Acc: 94.53%\n",
            "\t Val. Loss: 0.819 |  Val. Acc: 72.47% \n",
            "\n",
            "Epoch : 45\n",
            "\tTrain Loss: 0.607 | Train Acc: 94.44%\n",
            "\t Val. Loss: 0.831 |  Val. Acc: 71.62% \n",
            "\n",
            "Epoch : 46\n",
            "\tTrain Loss: 0.605 | Train Acc: 94.65%\n",
            "\t Val. Loss: 0.830 |  Val. Acc: 71.40% \n",
            "\n",
            "Epoch : 47\n",
            "\tTrain Loss: 0.605 | Train Acc: 94.67%\n",
            "\t Val. Loss: 0.830 |  Val. Acc: 71.66% \n",
            "\n",
            "Epoch : 48\n",
            "\tTrain Loss: 0.605 | Train Acc: 94.67%\n",
            "\t Val. Loss: 0.829 |  Val. Acc: 71.79% \n",
            "\n",
            "Epoch : 49\n",
            "\tTrain Loss: 0.605 | Train Acc: 94.67%\n",
            "\t Val. Loss: 0.829 |  Val. Acc: 71.75% \n",
            "\n",
            "Epoch : 50\n",
            "\tTrain Loss: 0.604 | Train Acc: 94.71%\n",
            "\t Val. Loss: 0.827 |  Val. Acc: 71.88% \n",
            "\n",
            "Epoch : 51\n",
            "\tTrain Loss: 0.604 | Train Acc: 94.73%\n",
            "\t Val. Loss: 0.827 |  Val. Acc: 72.01% \n",
            "\n",
            "Epoch : 52\n",
            "\tTrain Loss: 0.604 | Train Acc: 94.73%\n",
            "\t Val. Loss: 0.827 |  Val. Acc: 71.88% \n",
            "\n",
            "Epoch : 53\n",
            "\tTrain Loss: 0.604 | Train Acc: 94.73%\n",
            "\t Val. Loss: 0.825 |  Val. Acc: 72.27% \n",
            "\n",
            "Epoch : 54\n",
            "\tTrain Loss: 0.604 | Train Acc: 94.75%\n",
            "\t Val. Loss: 0.824 |  Val. Acc: 72.44% \n",
            "\n",
            "Epoch : 55\n",
            "\tTrain Loss: 0.604 | Train Acc: 94.73%\n",
            "\t Val. Loss: 0.824 |  Val. Acc: 72.14% \n",
            "\n",
            "Epoch : 56\n",
            "\tTrain Loss: 0.604 | Train Acc: 94.75%\n",
            "\t Val. Loss: 0.827 |  Val. Acc: 71.88% \n",
            "\n",
            "Epoch : 57\n",
            "\tTrain Loss: 0.604 | Train Acc: 94.75%\n",
            "\t Val. Loss: 0.827 |  Val. Acc: 71.62% \n",
            "\n",
            "Epoch : 58\n",
            "\tTrain Loss: 0.603 | Train Acc: 94.73%\n",
            "\t Val. Loss: 0.822 |  Val. Acc: 72.57% \n",
            "\n",
            "Epoch : 59\n",
            "\tTrain Loss: 0.604 | Train Acc: 94.73%\n",
            "\t Val. Loss: 0.826 |  Val. Acc: 72.31% \n",
            "\n",
            "Epoch : 60\n",
            "\tTrain Loss: 0.606 | Train Acc: 94.42%\n",
            "\t Val. Loss: 0.832 |  Val. Acc: 71.38% \n",
            "\n",
            "Epoch : 61\n",
            "\tTrain Loss: 0.608 | Train Acc: 94.40%\n",
            "\t Val. Loss: 0.842 |  Val. Acc: 70.47% \n",
            "\n",
            "Epoch : 62\n",
            "\tTrain Loss: 0.607 | Train Acc: 94.38%\n",
            "\t Val. Loss: 0.830 |  Val. Acc: 71.75% \n",
            "\n",
            "Epoch : 63\n",
            "\tTrain Loss: 0.605 | Train Acc: 94.63%\n",
            "\t Val. Loss: 0.838 |  Val. Acc: 70.86% \n",
            "\n",
            "Epoch : 64\n",
            "\tTrain Loss: 0.605 | Train Acc: 94.65%\n",
            "\t Val. Loss: 0.830 |  Val. Acc: 71.84% \n",
            "\n",
            "Epoch : 65\n",
            "\tTrain Loss: 0.604 | Train Acc: 94.65%\n",
            "\t Val. Loss: 0.831 |  Val. Acc: 71.58% \n",
            "\n",
            "Epoch : 66\n",
            "\tTrain Loss: 0.604 | Train Acc: 94.67%\n",
            "\t Val. Loss: 0.830 |  Val. Acc: 71.58% \n",
            "\n",
            "Epoch : 67\n",
            "\tTrain Loss: 0.604 | Train Acc: 94.73%\n",
            "\t Val. Loss: 0.830 |  Val. Acc: 71.75% \n",
            "\n",
            "Epoch : 68\n",
            "\tTrain Loss: 0.603 | Train Acc: 94.79%\n",
            "\t Val. Loss: 0.829 |  Val. Acc: 71.62% \n",
            "\n",
            "Epoch : 69\n",
            "\tTrain Loss: 0.602 | Train Acc: 94.87%\n",
            "\t Val. Loss: 0.827 |  Val. Acc: 71.71% \n",
            "\n",
            "Epoch : 70\n",
            "\tTrain Loss: 0.602 | Train Acc: 94.89%\n",
            "\t Val. Loss: 0.827 |  Val. Acc: 72.10% \n",
            "\n",
            "Epoch : 71\n",
            "\tTrain Loss: 0.602 | Train Acc: 94.91%\n",
            "\t Val. Loss: 0.827 |  Val. Acc: 71.84% \n",
            "\n",
            "Epoch : 72\n",
            "\tTrain Loss: 0.602 | Train Acc: 94.91%\n",
            "\t Val. Loss: 0.827 |  Val. Acc: 71.97% \n",
            "\n",
            "Epoch : 73\n",
            "\tTrain Loss: 0.602 | Train Acc: 94.91%\n",
            "\t Val. Loss: 0.827 |  Val. Acc: 71.84% \n",
            "\n",
            "Epoch : 74\n",
            "\tTrain Loss: 0.601 | Train Acc: 94.93%\n",
            "\t Val. Loss: 0.826 |  Val. Acc: 71.84% \n",
            "\n",
            "Epoch : 75\n",
            "\tTrain Loss: 0.601 | Train Acc: 94.91%\n",
            "\t Val. Loss: 0.826 |  Val. Acc: 72.10% \n",
            "\n",
            "Epoch : 76\n",
            "\tTrain Loss: 0.601 | Train Acc: 94.93%\n",
            "\t Val. Loss: 0.826 |  Val. Acc: 72.10% \n",
            "\n",
            "Epoch : 77\n",
            "\tTrain Loss: 0.601 | Train Acc: 94.96%\n",
            "\t Val. Loss: 0.826 |  Val. Acc: 72.27% \n",
            "\n",
            "Epoch : 78\n",
            "\tTrain Loss: 0.601 | Train Acc: 94.89%\n",
            "\t Val. Loss: 0.827 |  Val. Acc: 72.27% \n",
            "\n",
            "Epoch : 79\n",
            "\tTrain Loss: 0.601 | Train Acc: 94.96%\n",
            "\t Val. Loss: 0.827 |  Val. Acc: 72.27% \n",
            "\n",
            "Epoch : 80\n",
            "\tTrain Loss: 0.601 | Train Acc: 94.93%\n",
            "\t Val. Loss: 0.826 |  Val. Acc: 72.40% \n",
            "\n",
            "Epoch : 81\n",
            "\tTrain Loss: 0.601 | Train Acc: 94.93%\n",
            "\t Val. Loss: 0.826 |  Val. Acc: 72.27% \n",
            "\n",
            "Epoch : 82\n",
            "\tTrain Loss: 0.601 | Train Acc: 94.93%\n",
            "\t Val. Loss: 0.827 |  Val. Acc: 72.14% \n",
            "\n",
            "Epoch : 83\n",
            "\tTrain Loss: 0.602 | Train Acc: 94.89%\n",
            "\t Val. Loss: 0.827 |  Val. Acc: 72.18% \n",
            "\n",
            "Epoch : 84\n",
            "\tTrain Loss: 0.601 | Train Acc: 94.93%\n",
            "\t Val. Loss: 0.826 |  Val. Acc: 72.14% \n",
            "\n",
            "Epoch : 85\n",
            "\tTrain Loss: 0.601 | Train Acc: 94.93%\n",
            "\t Val. Loss: 0.827 |  Val. Acc: 71.88% \n",
            "\n",
            "Epoch : 86\n",
            "\tTrain Loss: 0.601 | Train Acc: 94.96%\n",
            "\t Val. Loss: 0.827 |  Val. Acc: 72.01% \n",
            "\n",
            "Epoch : 87\n",
            "\tTrain Loss: 0.602 | Train Acc: 94.93%\n",
            "\t Val. Loss: 0.826 |  Val. Acc: 72.27% \n",
            "\n",
            "Epoch : 88\n",
            "\tTrain Loss: 0.601 | Train Acc: 94.91%\n",
            "\t Val. Loss: 0.828 |  Val. Acc: 72.10% \n",
            "\n",
            "Epoch : 89\n",
            "\tTrain Loss: 0.601 | Train Acc: 94.91%\n",
            "\t Val. Loss: 0.827 |  Val. Acc: 72.44% \n",
            "\n",
            "Epoch : 90\n",
            "\tTrain Loss: 0.601 | Train Acc: 94.96%\n",
            "\t Val. Loss: 0.826 |  Val. Acc: 72.53% \n",
            "\n",
            "Epoch : 91\n",
            "\tTrain Loss: 0.601 | Train Acc: 94.96%\n",
            "\t Val. Loss: 0.828 |  Val. Acc: 72.31% \n",
            "\n",
            "Epoch : 92\n",
            "\tTrain Loss: 0.601 | Train Acc: 94.93%\n",
            "\t Val. Loss: 0.834 |  Val. Acc: 71.42% \n",
            "\n",
            "Epoch : 93\n",
            "\tTrain Loss: 0.602 | Train Acc: 94.91%\n",
            "\t Val. Loss: 0.826 |  Val. Acc: 71.90% \n",
            "\n",
            "Epoch : 94\n",
            "\tTrain Loss: 0.601 | Train Acc: 94.98%\n",
            "\t Val. Loss: 0.825 |  Val. Acc: 72.46% \n",
            "\n",
            "Epoch : 95\n",
            "\tTrain Loss: 0.601 | Train Acc: 95.00%\n",
            "\t Val. Loss: 0.825 |  Val. Acc: 72.29% \n",
            "\n",
            "Epoch : 96\n",
            "\tTrain Loss: 0.601 | Train Acc: 95.00%\n",
            "\t Val. Loss: 0.825 |  Val. Acc: 72.16% \n",
            "\n",
            "Epoch : 97\n",
            "\tTrain Loss: 0.601 | Train Acc: 94.98%\n",
            "\t Val. Loss: 0.825 |  Val. Acc: 72.16% \n",
            "\n",
            "Epoch : 98\n",
            "\tTrain Loss: 0.601 | Train Acc: 95.00%\n",
            "\t Val. Loss: 0.825 |  Val. Acc: 72.59% \n",
            "\n",
            "Epoch : 99\n",
            "\tTrain Loss: 0.601 | Train Acc: 94.98%\n",
            "\t Val. Loss: 0.825 |  Val. Acc: 72.55% \n",
            "\n"
          ],
          "name": "stdout"
        }
      ]
    },
    {
      "cell_type": "code",
      "metadata": {
        "colab": {
          "base_uri": "https://localhost:8080/"
        },
        "id": "owWnwgjdwwKj",
        "outputId": "c749593c-e33d-4c29-a702-5ed26d7cadf6"
      },
      "source": [
        "max(aug_acc_values['train']), max(aug_acc_values['valid'])"
      ],
      "execution_count": 55,
      "outputs": [
        {
          "output_type": "execute_result",
          "data": {
            "text/plain": [
              "(0.9499591503267973, 0.7418750002980232)"
            ]
          },
          "metadata": {
            "tags": []
          },
          "execution_count": 55
        }
      ]
    },
    {
      "cell_type": "code",
      "metadata": {
        "colab": {
          "base_uri": "https://localhost:8080/"
        },
        "id": "MMbfdwkpzdX3",
        "outputId": "42ad9ae3-674f-49fc-9dbd-5f1e9d4603ea"
      },
      "source": [
        "#Saving the augmented accuracy,loss and non_augmented accuracy loss into a json file\r\n",
        "btexperiment = {'NoAugacc' : acc_values,\r\n",
        "                'NoAugloss' : loss_values,\r\n",
        "                'Augacc' : aug_acc_values,\r\n",
        "                'Augloss' : aug_loss_values}\r\n",
        "\r\n",
        "import json\r\n",
        "\r\n",
        "with open('backtranslateA1.json', 'w') as f:\r\n",
        "  json.dump(btexperiment, f, indent=2)\r\n",
        "\r\n",
        "print('json file created successfully with accuracy and loss values.')"
      ],
      "execution_count": 61,
      "outputs": [
        {
          "output_type": "stream",
          "text": [
            "json file created successfully with accuracy and loss values.\n"
          ],
          "name": "stdout"
        }
      ]
    },
    {
      "cell_type": "code",
      "metadata": {
        "colab": {
          "base_uri": "https://localhost:8080/",
          "height": 317
        },
        "id": "JE4RBFqp6Rda",
        "outputId": "aa8d7268-d21a-4239-9ee6-3a9cb173bc03"
      },
      "source": [
        "plt.style.use(\"ggplot\")\r\n",
        "epochs = range(1, 101)\r\n",
        "plt.plot(epochs, acc_values['train'], 'g', label='Train NoAug')\r\n",
        "plt.plot(epochs, acc_values['valid'], 'g', label='valid NoAug')\r\n",
        "plt.plot(epochs, aug_acc_values['train'], 'b', label='Train Aug')\r\n",
        "plt.plot(epochs, aug_acc_values['valid'], 'b', label='valid Aug')\r\n",
        "plt.title('Training and Validation Accuracy')\r\n",
        "plt.xlabel('Epochs')\r\n",
        "plt.ylabel('Accuracy')\r\n",
        "plt.legend()\r\n",
        "plt.show()\r\n",
        "plt.savefig(\"accuracybacktranslate.jpg\")"
      ],
      "execution_count": 59,
      "outputs": [
        {
          "output_type": "display_data",
          "data": {
            "image/png": "[encoded data removed]",
            "text/plain": [
              "<Figure size 432x288 with 1 Axes>"
            ]
          },
          "metadata": {
            "tags": []
          }
        },
        {
          "output_type": "display_data",
          "data": {
            "text/plain": [
              "<Figure size 432x288 with 0 Axes>"
            ]
          },
          "metadata": {
            "tags": []
          }
        }
      ]
    },
    {
      "cell_type": "code",
      "metadata": {
        "colab": {
          "base_uri": "https://localhost:8080/",
          "height": 317
        },
        "id": "y3YvsiQvxDXT",
        "outputId": "693103f6-55ac-4612-c017-8467c15ed0b5"
      },
      "source": [
        "plt.style.use(\"ggplot\")\r\n",
        "epochs = range(1, 101)\r\n",
        "plt.plot(epochs, loss_values['train'], 'g', label='Training - NoAug')\r\n",
        "plt.plot(epochs, loss_values['valid'], 'g', label='validation - NoAug')\r\n",
        "plt.plot(epochs, aug_loss_values['train'], 'b', label='Training - Aug')\r\n",
        "plt.plot(epochs, aug_loss_values['valid'], 'b', label='validation - Aug')\r\n",
        "plt.title('Training and Validation Loss')\r\n",
        "plt.xlabel('Epochs')\r\n",
        "plt.ylabel('Loss')\r\n",
        "plt.legend()\r\n",
        "plt.show()\r\n",
        "plt.savefig('lossbacktranslate.jpg')"
      ],
      "execution_count": 58,
      "outputs": [
        {
          "output_type": "display_data",
          "data": {
            "image/png": "[encoded data removed]",
            "text/plain": [
              "<Figure size 432x288 with 1 Axes>"
            ]
          },
          "metadata": {
            "tags": []
          }
        },
        {
          "output_type": "display_data",
          "data": {
            "text/plain": [
              "<Figure size 432x288 with 0 Axes>"
            ]
          },
          "metadata": {
            "tags": []
          }
        }
      ]
    },
    {
      "cell_type": "code",
      "metadata": {
        "id": "5nthspGOx7ic"
      },
      "source": [
        ""
      ],
      "execution_count": null,
      "outputs": []
    },
    {
      "cell_type": "code",
      "metadata": {
        "id": "92GW6xxX3aRf"
      },
      "source": [
        "#load weights and tokenizer\r\n",
        "\r\n",
        "path='./saved_weights.pt'\r\n",
        "model.load_state_dict(torch.load(path));\r\n",
        "model.eval();\r\n",
        "tokenizer_file = open('./tokenizer.pkl', 'rb')\r\n",
        "tokenizer = pickle.load(tokenizer_file)\r\n",
        "\r\n",
        "#inference \r\n",
        "\r\n",
        "import spacy\r\n",
        "nlp = spacy.load('en')\r\n",
        "\r\n",
        "def classify_tweet(tweet):\r\n",
        "    \r\n",
        "    categories = {1: \"Negative\", 2:\"Positive\", 0:\"Neutral\"}\r\n",
        "    \r\n",
        "    # tokenize the tweet \r\n",
        "    tokenized = [tok.text for tok in nlp.tokenizer(tweet)] \r\n",
        "    # convert to integer sequence using predefined tokenizer dictionary\r\n",
        "    indexed = [tokenizer[t] for t in tokenized]        \r\n",
        "    # compute no. of words        \r\n",
        "    length = [len(indexed)]\r\n",
        "    # convert to tensor                                    \r\n",
        "    tensor = torch.LongTensor(indexed).to(device)   \r\n",
        "    # reshape in form of batch, no. of words           \r\n",
        "    tensor = tensor.unsqueeze(1).T  \r\n",
        "    # convert to tensor                          \r\n",
        "    length_tensor = torch.LongTensor(length)\r\n",
        "    # Get the model prediction                  \r\n",
        "    prediction = model(tensor, length_tensor)\r\n",
        "\r\n",
        "    _, pred = torch.max(prediction, 1) \r\n",
        "    \r\n",
        "    return categories[pred.item()]"
      ],
      "execution_count": null,
      "outputs": []
    },
    {
      "cell_type": "code",
      "metadata": {
        "colab": {
          "base_uri": "https://localhost:8080/",
          "height": 35
        },
        "id": "3fe9cEDZ35su",
        "outputId": "5406882c-0290-40c6-8a57-b2754cac8bf4"
      },
      "source": [
        "classify_tweet(\"A valid explanation for why Trump won't let women on the golf course.\")"
      ],
      "execution_count": null,
      "outputs": [
        {
          "output_type": "execute_result",
          "data": {
            "application/vnd.google.colaboratory.intrinsic+json": {
              "type": "string"
            },
            "text/plain": [
              "'Negative'"
            ]
          },
          "metadata": {
            "tags": []
          },
          "execution_count": 279
        }
      ]
    },
    {
      "cell_type": "code",
      "metadata": {
        "id": "XTRv2Neu38Mg"
      },
      "source": [
        ""
      ],
      "execution_count": null,
      "outputs": []
    }
  ]
}